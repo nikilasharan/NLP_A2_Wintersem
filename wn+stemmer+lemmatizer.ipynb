{
 "cells": [
  {
   "cell_type": "code",
   "execution_count": 1,
   "metadata": {},
   "outputs": [],
   "source": [
    "from nltk.corpus import stopwords"
   ]
  },
  {
   "cell_type": "code",
   "execution_count": 2,
   "metadata": {},
   "outputs": [
    {
     "data": {
      "text/plain": [
       "['i',\n",
       " 'me',\n",
       " 'my',\n",
       " 'myself',\n",
       " 'we',\n",
       " 'our',\n",
       " 'ours',\n",
       " 'ourselves',\n",
       " 'you',\n",
       " \"you're\",\n",
       " \"you've\",\n",
       " \"you'll\",\n",
       " \"you'd\",\n",
       " 'your',\n",
       " 'yours',\n",
       " 'yourself',\n",
       " 'yourselves',\n",
       " 'he',\n",
       " 'him',\n",
       " 'his',\n",
       " 'himself',\n",
       " 'she',\n",
       " \"she's\",\n",
       " 'her',\n",
       " 'hers',\n",
       " 'herself',\n",
       " 'it',\n",
       " \"it's\",\n",
       " 'its',\n",
       " 'itself',\n",
       " 'they',\n",
       " 'them',\n",
       " 'their',\n",
       " 'theirs',\n",
       " 'themselves',\n",
       " 'what',\n",
       " 'which',\n",
       " 'who',\n",
       " 'whom',\n",
       " 'this',\n",
       " 'that',\n",
       " \"that'll\",\n",
       " 'these',\n",
       " 'those',\n",
       " 'am',\n",
       " 'is',\n",
       " 'are',\n",
       " 'was',\n",
       " 'were',\n",
       " 'be',\n",
       " 'been',\n",
       " 'being',\n",
       " 'have',\n",
       " 'has',\n",
       " 'had',\n",
       " 'having',\n",
       " 'do',\n",
       " 'does',\n",
       " 'did',\n",
       " 'doing',\n",
       " 'a',\n",
       " 'an',\n",
       " 'the',\n",
       " 'and',\n",
       " 'but',\n",
       " 'if',\n",
       " 'or',\n",
       " 'because',\n",
       " 'as',\n",
       " 'until',\n",
       " 'while',\n",
       " 'of',\n",
       " 'at',\n",
       " 'by',\n",
       " 'for',\n",
       " 'with',\n",
       " 'about',\n",
       " 'against',\n",
       " 'between',\n",
       " 'into',\n",
       " 'through',\n",
       " 'during',\n",
       " 'before',\n",
       " 'after',\n",
       " 'above',\n",
       " 'below',\n",
       " 'to',\n",
       " 'from',\n",
       " 'up',\n",
       " 'down',\n",
       " 'in',\n",
       " 'out',\n",
       " 'on',\n",
       " 'off',\n",
       " 'over',\n",
       " 'under',\n",
       " 'again',\n",
       " 'further',\n",
       " 'then',\n",
       " 'once',\n",
       " 'here',\n",
       " 'there',\n",
       " 'when',\n",
       " 'where',\n",
       " 'why',\n",
       " 'how',\n",
       " 'all',\n",
       " 'any',\n",
       " 'both',\n",
       " 'each',\n",
       " 'few',\n",
       " 'more',\n",
       " 'most',\n",
       " 'other',\n",
       " 'some',\n",
       " 'such',\n",
       " 'no',\n",
       " 'nor',\n",
       " 'not',\n",
       " 'only',\n",
       " 'own',\n",
       " 'same',\n",
       " 'so',\n",
       " 'than',\n",
       " 'too',\n",
       " 'very',\n",
       " 's',\n",
       " 't',\n",
       " 'can',\n",
       " 'will',\n",
       " 'just',\n",
       " 'don',\n",
       " \"don't\",\n",
       " 'should',\n",
       " \"should've\",\n",
       " 'now',\n",
       " 'd',\n",
       " 'll',\n",
       " 'm',\n",
       " 'o',\n",
       " 're',\n",
       " 've',\n",
       " 'y',\n",
       " 'ain',\n",
       " 'aren',\n",
       " \"aren't\",\n",
       " 'couldn',\n",
       " \"couldn't\",\n",
       " 'didn',\n",
       " \"didn't\",\n",
       " 'doesn',\n",
       " \"doesn't\",\n",
       " 'hadn',\n",
       " \"hadn't\",\n",
       " 'hasn',\n",
       " \"hasn't\",\n",
       " 'haven',\n",
       " \"haven't\",\n",
       " 'isn',\n",
       " \"isn't\",\n",
       " 'ma',\n",
       " 'mightn',\n",
       " \"mightn't\",\n",
       " 'mustn',\n",
       " \"mustn't\",\n",
       " 'needn',\n",
       " \"needn't\",\n",
       " 'shan',\n",
       " \"shan't\",\n",
       " 'shouldn',\n",
       " \"shouldn't\",\n",
       " 'wasn',\n",
       " \"wasn't\",\n",
       " 'weren',\n",
       " \"weren't\",\n",
       " 'won',\n",
       " \"won't\",\n",
       " 'wouldn',\n",
       " \"wouldn't\"]"
      ]
     },
     "execution_count": 2,
     "metadata": {},
     "output_type": "execute_result"
    }
   ],
   "source": [
    "stopwords.words('english')"
   ]
  },
  {
   "cell_type": "code",
   "execution_count": 3,
   "metadata": {},
   "outputs": [],
   "source": [
    "import nltk"
   ]
  },
  {
   "cell_type": "code",
   "execution_count": 4,
   "metadata": {},
   "outputs": [],
   "source": [
    "entries = nltk.corpus.cmudict.entries()"
   ]
  },
  {
   "cell_type": "code",
   "execution_count": 5,
   "metadata": {},
   "outputs": [
    {
     "data": {
      "text/plain": [
       "133737"
      ]
     },
     "execution_count": 5,
     "metadata": {},
     "output_type": "execute_result"
    }
   ],
   "source": [
    "len(entries)"
   ]
  },
  {
   "cell_type": "code",
   "execution_count": 6,
   "metadata": {},
   "outputs": [
    {
     "name": "stdout",
     "output_type": "stream",
     "text": [
      "('belford', ['B', 'EH1', 'L', 'F', 'ER0', 'D'])\n",
      "('belfry', ['B', 'EH1', 'L', 'F', 'R', 'IY0'])\n",
      "('belgacom', ['B', 'EH1', 'L', 'G', 'AH0', 'K', 'AA0', 'M'])\n",
      "('belgacom', ['B', 'EH1', 'L', 'JH', 'AH0', 'K', 'AA0', 'M'])\n",
      "('belgard', ['B', 'EH0', 'L', 'G', 'AA1', 'R', 'D'])\n",
      "('belgarde', ['B', 'EH0', 'L', 'G', 'AA1', 'R', 'D', 'IY0'])\n",
      "('belge', ['B', 'EH1', 'L', 'JH', 'IY0'])\n",
      "('belger', ['B', 'EH1', 'L', 'G', 'ER0'])\n",
      "('belgian', ['B', 'EH1', 'L', 'JH', 'AH0', 'N'])\n",
      "('belgians', ['B', 'EH1', 'L', 'JH', 'AH0', 'N', 'Z'])\n",
      "('belgique', ['B', 'EH0', 'L', 'ZH', 'IY1', 'K'])\n",
      "(\"belgique's\", ['B', 'EH0', 'L', 'JH', 'IY1', 'K', 'S'])\n",
      "('belgium', ['B', 'EH1', 'L', 'JH', 'AH0', 'M'])\n",
      "(\"belgium's\", ['B', 'EH1', 'L', 'JH', 'AH0', 'M', 'Z'])\n",
      "('belgo', ['B', 'EH1', 'L', 'G', 'OW2'])\n",
      "('belgrade', ['B', 'EH1', 'L', 'G', 'R', 'EY0', 'D'])\n",
      "('belgrade', ['B', 'EH1', 'L', 'G', 'R', 'AA2', 'D'])\n",
      "(\"belgrade's\", ['B', 'EH1', 'L', 'G', 'R', 'EY0', 'D', 'Z'])\n",
      "(\"belgrade's\", ['B', 'EH1', 'L', 'G', 'R', 'AA2', 'D', 'Z'])\n",
      "('belgrave', ['B', 'EH1', 'L', 'G', 'R', 'EY2', 'V'])\n",
      "('beli', ['B', 'EH1', 'L', 'IY0'])\n",
      "('belich', ['B', 'EH1', 'L', 'IH0', 'K'])\n",
      "('belie', ['B', 'IH0', 'L', 'AY1'])\n",
      "('belied', ['B', 'IH0', 'L', 'AY1', 'D'])\n",
      "('belief', ['B', 'IH0', 'L', 'IY1', 'F'])\n"
     ]
    }
   ],
   "source": [
    "for entry in entries[10000:10025]:\n",
    "    print(entry)"
   ]
  },
  {
   "cell_type": "code",
   "execution_count": 7,
   "metadata": {},
   "outputs": [
    {
     "name": "stdout",
     "output_type": "stream",
     "text": [
      "('a.', ['EY1'])\n",
      "('a', ['EY1'])\n",
      "('a42128', ['EY1', 'F', 'AO1', 'R', 'T', 'UW1', 'W', 'AH1', 'N', 'T', 'UW1', 'EY1', 'T'])\n",
      "('aaa', ['T', 'R', 'IH2', 'P', 'AH0', 'L', 'EY1'])\n",
      "('aaberg', ['AA1', 'B', 'ER0', 'G'])\n",
      "('aachen', ['AA1', 'K', 'AH0', 'N'])\n",
      "('aachener', ['AA1', 'K', 'AH0', 'N', 'ER0'])\n",
      "('aaker', ['AA1', 'K', 'ER0'])\n",
      "('aalseth', ['AA1', 'L', 'S', 'EH0', 'TH'])\n",
      "('aamodt', ['AA1', 'M', 'AH0', 'T'])\n",
      "('aancor', ['AA1', 'N', 'K', 'AO2', 'R'])\n",
      "('aardema', ['AA0', 'R', 'D', 'EH1', 'M', 'AH0'])\n",
      "('aardvark', ['AA1', 'R', 'D', 'V', 'AA2', 'R', 'K'])\n",
      "('aaron', ['EH1', 'R', 'AH0', 'N'])\n",
      "(\"aaron's\", ['EH1', 'R', 'AH0', 'N', 'Z'])\n",
      "('aarons', ['EH1', 'R', 'AH0', 'N', 'Z'])\n",
      "('aaronson', ['EH1', 'R', 'AH0', 'N', 'S', 'AH0', 'N'])\n",
      "('aaronson', ['AA1', 'R', 'AH0', 'N', 'S', 'AH0', 'N'])\n",
      "(\"aaronson's\", ['EH1', 'R', 'AH0', 'N', 'S', 'AH0', 'N', 'Z'])\n",
      "(\"aaronson's\", ['AA1', 'R', 'AH0', 'N', 'S', 'AH0', 'N', 'Z'])\n",
      "('aarti', ['AA1', 'R', 'T', 'IY2'])\n",
      "('aase', ['AA1', 'S'])\n",
      "('aasen', ['AA1', 'S', 'AH0', 'N'])\n",
      "('ab', ['AE1', 'B'])\n",
      "('ab', ['EY1', 'B', 'IY1'])\n",
      "('ababa', ['AH0', 'B', 'AA1', 'B', 'AH0'])\n",
      "('ababa', ['AA1', 'B', 'AH0', 'B', 'AH0'])\n",
      "('abacha', ['AE1', 'B', 'AH0', 'K', 'AH0'])\n",
      "('aback', ['AH0', 'B', 'AE1', 'K'])\n",
      "('abaco', ['AE1', 'B', 'AH0', 'K', 'OW2'])\n",
      "('abacus', ['AE1', 'B', 'AH0', 'K', 'AH0', 'S'])\n",
      "('abad', ['AH0', 'B', 'AA1', 'D'])\n",
      "('abadaka', ['AH0', 'B', 'AE1', 'D', 'AH0', 'K', 'AH0'])\n",
      "('abadi', ['AH0', 'B', 'AE1', 'D', 'IY0'])\n",
      "('abadie', ['AH0', 'B', 'AE1', 'D', 'IY0'])\n",
      "('abair', ['AH0', 'B', 'EH1', 'R'])\n",
      "('abalkin', ['AH0', 'B', 'AA1', 'L', 'K', 'IH0', 'N'])\n",
      "('abalone', ['AE2', 'B', 'AH0', 'L', 'OW1', 'N', 'IY0'])\n",
      "('abalos', ['AA0', 'B', 'AA1', 'L', 'OW0', 'Z'])\n",
      "('abandon', ['AH0', 'B', 'AE1', 'N', 'D', 'AH0', 'N'])\n",
      "('abandoned', ['AH0', 'B', 'AE1', 'N', 'D', 'AH0', 'N', 'D'])\n",
      "('abandoning', ['AH0', 'B', 'AE1', 'N', 'D', 'AH0', 'N', 'IH0', 'NG'])\n",
      "('abandonment', ['AH0', 'B', 'AE1', 'N', 'D', 'AH0', 'N', 'M', 'AH0', 'N', 'T'])\n",
      "('abandonments', ['AH0', 'B', 'AE1', 'N', 'D', 'AH0', 'N', 'M', 'AH0', 'N', 'T', 'S'])\n",
      "('abandons', ['AH0', 'B', 'AE1', 'N', 'D', 'AH0', 'N', 'Z'])\n",
      "('abanto', ['AH0', 'B', 'AE1', 'N', 'T', 'OW0'])\n",
      "('abarca', ['AH0', 'B', 'AA1', 'R', 'K', 'AH0'])\n",
      "('abare', ['AA0', 'B', 'AA1', 'R', 'IY0'])\n",
      "('abascal', ['AE1', 'B', 'AH0', 'S', 'K', 'AH0', 'L'])\n"
     ]
    }
   ],
   "source": [
    "for entry in entries[1:50]:\n",
    "    print (entry)"
   ]
  },
  {
   "cell_type": "code",
   "execution_count": 8,
   "metadata": {},
   "outputs": [
    {
     "name": "stdout",
     "output_type": "stream",
     "text": [
      "[nltk_data] Downloading package wordnet to C:\\Users\\abc/nltk_data...\n",
      "[nltk_data]   Package wordnet is already up-to-date!\n"
     ]
    },
    {
     "data": {
      "text/plain": [
       "True"
      ]
     },
     "execution_count": 8,
     "metadata": {},
     "output_type": "execute_result"
    }
   ],
   "source": [
    "from nltk.corpus import wordnet as wn\n",
    "nltk.download('wordnet')"
   ]
  },
  {
   "cell_type": "code",
   "execution_count": 9,
   "metadata": {},
   "outputs": [
    {
     "data": {
      "text/plain": [
       "[Synset('car.n.01')]"
      ]
     },
     "execution_count": 9,
     "metadata": {},
     "output_type": "execute_result"
    }
   ],
   "source": [
    "wn.synsets('motorcar')"
   ]
  },
  {
   "cell_type": "code",
   "execution_count": 10,
   "metadata": {},
   "outputs": [
    {
     "data": {
      "text/plain": [
       "['car', 'auto', 'automobile', 'machine', 'motorcar']"
      ]
     },
     "execution_count": 10,
     "metadata": {},
     "output_type": "execute_result"
    }
   ],
   "source": [
    "wn.synset('car.n.01').lemma_names()"
   ]
  },
  {
   "cell_type": "code",
   "execution_count": 11,
   "metadata": {},
   "outputs": [
    {
     "name": "stdout",
     "output_type": "stream",
     "text": [
      "[nltk_data] Downloading package averaged_perceptron_tagger to\n",
      "[nltk_data]     C:\\Users\\abc/nltk_data...\n",
      "[nltk_data]   Package averaged_perceptron_tagger is already up-to-\n",
      "[nltk_data]       date!\n"
     ]
    },
    {
     "data": {
      "text/plain": [
       "True"
      ]
     },
     "execution_count": 11,
     "metadata": {},
     "output_type": "execute_result"
    }
   ],
   "source": [
    "nltk.download('averaged_perceptron_tagger')"
   ]
  },
  {
   "cell_type": "code",
   "execution_count": 12,
   "metadata": {},
   "outputs": [],
   "source": [
    "texts = [\"\"\"Noah Centineo is an American actor. He portrays Jesus Adams Foster in The Fosters (2013), for which he has been nominated for a Teen Choice Award.\n",
    "\n",
    "He was born Noah Gregory Centineo on May 9, 1996 in Miami, Florida, to Kellee Janel (Andres) and Gregory Vincent Centineo, a businessman and former pastor. He is of Italian and German descent. He grew up in Boynton Beach, Florida with his older sister, Taylor. He attended BAK Middle School of the Arts and Boca Raton Community High School, before moving to Los Angeles in 2012 at the age of sixteen.\"\"\"]"
   ]
  },
  {
   "cell_type": "code",
   "execution_count": 13,
   "metadata": {},
   "outputs": [
    {
     "name": "stdout",
     "output_type": "stream",
     "text": [
      "[('Noah', 'NNP'), ('Centineo', 'NNP'), ('is', 'VBZ'), ('an', 'DT'), ('American', 'JJ'), ('actor', 'NN'), ('.', '.')]\n",
      "[('He', 'PRP'), ('portrays', 'VBZ'), ('Jesus', 'NNP'), ('Adams', 'NNP'), ('Foster', 'NNP'), ('in', 'IN'), ('The', 'DT'), ('Fosters', 'NNP'), ('(', '('), ('2013', 'CD'), (')', ')'), (',', ','), ('for', 'IN'), ('which', 'WDT'), ('he', 'PRP'), ('has', 'VBZ'), ('been', 'VBN'), ('nominated', 'VBN'), ('for', 'IN'), ('a', 'DT'), ('Teen', 'NNP'), ('Choice', 'NNP'), ('Award', 'NNP'), ('.', '.')]\n",
      "[('He', 'PRP'), ('was', 'VBD'), ('born', 'VBN'), ('Noah', 'NNP'), ('Gregory', 'NNP'), ('Centineo', 'NNP'), ('on', 'IN'), ('May', 'NNP'), ('9', 'CD'), (',', ','), ('1996', 'CD'), ('in', 'IN'), ('Miami', 'NNP'), (',', ','), ('Florida', 'NNP'), (',', ','), ('to', 'TO'), ('Kellee', 'NNP'), ('Janel', 'NNP'), ('(', '('), ('Andres', 'NNP'), (')', ')'), ('and', 'CC'), ('Gregory', 'NNP'), ('Vincent', 'NNP'), ('Centineo', 'NNP'), (',', ','), ('a', 'DT'), ('businessman', 'NN'), ('and', 'CC'), ('former', 'JJ'), ('pastor', 'NN'), ('.', '.')]\n",
      "[('He', 'PRP'), ('is', 'VBZ'), ('of', 'IN'), ('Italian', 'JJ'), ('and', 'CC'), ('German', 'JJ'), ('descent', 'NN'), ('.', '.')]\n",
      "[('He', 'PRP'), ('grew', 'VBD'), ('up', 'RP'), ('in', 'IN'), ('Boynton', 'NNP'), ('Beach', 'NNP'), (',', ','), ('Florida', 'NNP'), ('with', 'IN'), ('his', 'PRP$'), ('older', 'JJR'), ('sister', 'NN'), (',', ','), ('Taylor', 'NNP'), ('.', '.')]\n",
      "[('He', 'PRP'), ('attended', 'VBD'), ('BAK', 'NNP'), ('Middle', 'NNP'), ('School', 'NNP'), ('of', 'IN'), ('the', 'DT'), ('Arts', 'NNS'), ('and', 'CC'), ('Boca', 'NNP'), ('Raton', 'NNP'), ('Community', 'NNP'), ('High', 'NNP'), ('School', 'NNP'), (',', ','), ('before', 'IN'), ('moving', 'VBG'), ('to', 'TO'), ('Los', 'NNP'), ('Angeles', 'NNP'), ('in', 'IN'), ('2012', 'CD'), ('at', 'IN'), ('the', 'DT'), ('age', 'NN'), ('of', 'IN'), ('sixteen', 'NN'), ('.', '.')]\n"
     ]
    }
   ],
   "source": [
    "for text in texts:\n",
    "    sentences = nltk.sent_tokenize(text)\n",
    "    for sentence in sentences:\n",
    "        words = nltk.word_tokenize(sentence)\n",
    "        tagged_words = nltk.pos_tag(words)\n",
    "        print(tagged_words)"
   ]
  },
  {
   "cell_type": "code",
   "execution_count": 14,
   "metadata": {},
   "outputs": [],
   "source": [
    "#twitter tokenizer\n",
    "import nltk\n",
    "from nltk.tokenize import TweetTokenizer"
   ]
  },
  {
   "cell_type": "code",
   "execution_count": 15,
   "metadata": {},
   "outputs": [],
   "source": [
    "text = 'After years of rebuilding OTHER nations, we are finally rebuilding OUR nation :D. We are finally putting AMERICA FIRST! #KAG2020'"
   ]
  },
  {
   "cell_type": "code",
   "execution_count": 16,
   "metadata": {},
   "outputs": [
    {
     "data": {
      "text/plain": [
       "['After',\n",
       " 'years',\n",
       " 'of',\n",
       " 'rebuilding',\n",
       " 'OTHER',\n",
       " 'nations',\n",
       " ',',\n",
       " 'we',\n",
       " 'are',\n",
       " 'finally',\n",
       " 'rebuilding',\n",
       " 'OUR',\n",
       " 'nation',\n",
       " ':D',\n",
       " '.',\n",
       " 'We',\n",
       " 'are',\n",
       " 'finally',\n",
       " 'putting',\n",
       " 'AMERICA',\n",
       " 'FIRST',\n",
       " '!',\n",
       " '#KAG2020']"
      ]
     },
     "execution_count": 16,
     "metadata": {},
     "output_type": "execute_result"
    }
   ],
   "source": [
    "twtkn = TweetTokenizer()\n",
    "twtkn.tokenize(text)"
   ]
  },
  {
   "cell_type": "code",
   "execution_count": 17,
   "metadata": {},
   "outputs": [
    {
     "data": {
      "text/plain": [
       "'mang'"
      ]
     },
     "execution_count": 17,
     "metadata": {},
     "output_type": "execute_result"
    }
   ],
   "source": [
    "#snowball stemmer\n",
    "import nltk\n",
    "from nltk.stem import SnowballStemmer\n",
    "SnowballStemmer.languages\n",
    "frenchstemmer=SnowballStemmer('french')\n",
    "frenchstemmer.stem('manges')"
   ]
  },
  {
   "cell_type": "code",
   "execution_count": 18,
   "metadata": {},
   "outputs": [
    {
     "name": "stdout",
     "output_type": "stream",
     "text": [
      "good\n"
     ]
    }
   ],
   "source": [
    "#lemmatizer\n",
    "from nltk.stem import WordNetLemmatizer\n",
    "lemmatizer = WordNetLemmatizer()\n",
    "print(lemmatizer.lemmatize(\"better\", pos = 'a'))"
   ]
  },
  {
   "cell_type": "code",
   "execution_count": 19,
   "metadata": {},
   "outputs": [
    {
     "name": "stdout",
     "output_type": "stream",
     "text": [
      "A quick brown fox jump over a lazi dog\n",
      "A quick brown fox jump over a lazy dog\n"
     ]
    }
   ],
   "source": [
    "#lemmatizer & Stemmer\n",
    "from nltk.stem import PorterStemmer\n",
    "from nltk.stem import WordNetLemmatizer\n",
    "lemmatizer = WordNetLemmatizer()\n",
    "stemmer = PorterStemmer()\n",
    "example = \"A quick brown fox jumps over a lazy dog\"\n",
    "example1 = [stemmer.stem(token) for token in example.split(\" \")]\n",
    "print(\" \".join(example1))\n",
    "example = [lemmatizer.lemmatize(token) for token in example.split(\" \")]\n",
    "print(\" \".join(example))"
   ]
  },
  {
   "cell_type": "code",
   "execution_count": 20,
   "metadata": {},
   "outputs": [],
   "source": [
    "#vectorization\n",
    "from sklearn.feature_extraction.text import CountVectorizer\n",
    "corpus = ['this ']"
   ]
  },
  {
   "cell_type": "code",
   "execution_count": 22,
   "metadata": {},
   "outputs": [
    {
     "name": "stdout",
     "output_type": "stream",
     "text": [
      "{'john': 4, 'is': 3, 'good': 2, 'boy': 1, 'watches': 5, 'basketball': 0}\n"
     ]
    }
   ],
   "source": [
    "text = [\"John is a good boy. John watches basketball\"]\n",
    "vectorizer = CountVectorizer()\n",
    "# tokenize and build vocab\n",
    "vectorizer.fit(text)\n",
    "\n",
    "print(vectorizer.vocabulary_)"
   ]
  },
  {
   "cell_type": "code",
   "execution_count": 23,
   "metadata": {},
   "outputs": [
    {
     "name": "stdout",
     "output_type": "stream",
     "text": [
      "(1, 6)\n",
      "[[1 1 1 1 2 1]]\n"
     ]
    }
   ],
   "source": [
    "# encode document\n",
    "vector = vectorizer.transform(text)\n",
    "# summarize encoded vector\n",
    "print(vector.shape)\n",
    "print(vector.toarray())"
   ]
  }
 ],
 "metadata": {
  "kernelspec": {
   "display_name": "Python 3",
   "language": "python",
   "name": "python3"
  },
  "language_info": {
   "codemirror_mode": {
    "name": "ipython",
    "version": 3
   },
   "file_extension": ".py",
   "mimetype": "text/x-python",
   "name": "python",
   "nbconvert_exporter": "python",
   "pygments_lexer": "ipython3",
   "version": "3.7.0"
  }
 },
 "nbformat": 4,
 "nbformat_minor": 2
}
