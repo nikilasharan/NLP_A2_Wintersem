{
 "cells": [
  {
   "cell_type": "code",
   "execution_count": 2,
   "metadata": {},
   "outputs": [],
   "source": [
    "import jieba"
   ]
  },
  {
   "cell_type": "code",
   "execution_count": 4,
   "metadata": {},
   "outputs": [],
   "source": [
    "chinese_text = '''仍然沉迷于长达数小时的远景，\n",
    "穿越玫瑰照亮的积云，房屋和谷仓，\n",
    "如雪谷中深处的斑点，看上去像十二月的所有滚动国家—棕色和黑色的山丘上散布着雪，\n",
    "闪烁 在冰雪覆盖的湖泊中，一条长长的辫子在峡谷底部闪闪发光。 \n",
    "在机翼上方，天空已经深深地变成了蓝色，如此纯净，他知道，如果他看上去足够长，就会流下眼泪'''"
   ]
  },
  {
   "cell_type": "code",
   "execution_count": 5,
   "metadata": {},
   "outputs": [
    {
     "name": "stderr",
     "output_type": "stream",
     "text": [
      "Building prefix dict from the default dictionary ...\n",
      "Dumping model to file cache C:\\Users\\abc\\AppData\\Local\\Temp\\jieba.cache\n",
      "Loading model cost 1.581 seconds.\n",
      "Prefix dict has been built successfully.\n"
     ]
    },
    {
     "name": "stdout",
     "output_type": "stream",
     "text": [
      " Full Mode: 仍然 / 沉迷 / 沉迷于 / 长达 / 数 / 小时 / 的 / 远景 / ， / \n",
      " /  / 穿越 / 玫瑰 / 照亮 / 的 / 积云 / ， / 房屋 / 和 / 谷仓 / ， / \n",
      " /  / 如 / 雪谷 / 中 / 深处 / 的 / 斑点 / ， / 看上 / 看上去 / 上去 / 像 / 十二 / 十二月 / 二月 / 的 / 所有 / 滚动 / 国家 / — / 棕色 / 和 / 黑色 / 的 / 山丘 / 上 / 散布 / 着 / 雪 / ， / \n",
      " /  / 闪烁 /  /   /  / 在 / 冰雪 / 覆盖 / 的 / 湖泊 / 中 / ， / 一条 / 长长 / 长长的 / 辫子 / 在 / 峡谷 / 谷底 / 底部 / 闪闪 / 闪闪发光 / 发光 / 。 /   /  / \n",
      " /  / 在 / 机翼 / 上方 / ， / 天空 / 已经 / 深深 / 深深地 / 变成 / 了 / 蓝色 / ， / 如此 / 纯净 / ， / 他 / 知道 / ， / 如果 / 他 / 看上 / 看上去 / 上去 / 足够 / 长 / ， / 就 / 会 / 流下 / 眼泪\n"
     ]
    }
   ],
   "source": [
    "seg_list = jieba.cut (chinese_text , cut_all = True )\n",
    "print ( \" Full Mode: \"  +  \" / \" .join (seg_list))\n"
   ]
  }
 ],
 "metadata": {
  "kernelspec": {
   "display_name": "Python 3",
   "language": "python",
   "name": "python3"
  },
  "language_info": {
   "codemirror_mode": {
    "name": "ipython",
    "version": 3
   },
   "file_extension": ".py",
   "mimetype": "text/x-python",
   "name": "python",
   "nbconvert_exporter": "python",
   "pygments_lexer": "ipython3",
   "version": "3.7.0"
  }
 },
 "nbformat": 4,
 "nbformat_minor": 2
}
