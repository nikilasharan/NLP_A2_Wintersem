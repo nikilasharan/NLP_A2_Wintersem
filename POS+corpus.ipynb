{
 "cells": [
  {
   "cell_type": "code",
   "execution_count": 5,
   "metadata": {},
   "outputs": [],
   "source": [
    "import nltk"
   ]
  },
  {
   "cell_type": "code",
   "execution_count": 6,
   "metadata": {},
   "outputs": [
    {
     "data": {
      "text/plain": [
       "True"
      ]
     },
     "execution_count": 6,
     "metadata": {},
     "output_type": "execute_result"
    }
   ],
   "source": [
    "import os, os.path\n",
    "path = os.path.expanduser('~/nltk_data')\n",
    "if not os.path.exists(path):\n",
    "    os.mkdir(path)\n",
    "os.path.exists(path)    "
   ]
  },
  {
   "cell_type": "code",
   "execution_count": 7,
   "metadata": {},
   "outputs": [
    {
     "data": {
      "text/plain": [
       "True"
      ]
     },
     "execution_count": 7,
     "metadata": {},
     "output_type": "execute_result"
    }
   ],
   "source": [
    "import nltk.data\n",
    "path in nltk.data.path"
   ]
  },
  {
   "cell_type": "code",
   "execution_count": 8,
   "metadata": {},
   "outputs": [],
   "source": [
    "from nltk.corpus import CategorizedPlaintextCorpusReader"
   ]
  },
  {
   "cell_type": "code",
   "execution_count": 9,
   "metadata": {},
   "outputs": [
    {
     "name": "stdout",
     "output_type": "stream",
     "text": [
      "['business', 'entertainment', 'politics', 'sport', 'tech']\n",
      "['business/001.txt', 'business/002.txt', 'business/003.txt', 'business/004.txt', 'business/005.txt', 'business/006.txt', 'business/007.txt', 'business/008.txt', 'business/009.txt', 'business/010.txt', 'business/011.txt', 'business/012.txt', 'business/013.txt', 'business/014.txt', 'business/015.txt', 'business/016.txt', 'business/017.txt', 'business/018.txt', 'business/019.txt', 'business/020.txt', 'business/021.txt', 'business/022.txt', 'business/023.txt', 'business/024.txt', 'business/025.txt', 'business/026.txt', 'business/027.txt', 'business/028.txt', 'business/029.txt', 'business/030.txt', 'business/031.txt', 'business/032.txt', 'business/033.txt', 'business/034.txt', 'business/035.txt', 'business/036.txt', 'business/037.txt', 'business/038.txt', 'business/039.txt', 'business/040.txt', 'business/041.txt', 'business/042.txt', 'business/043.txt', 'business/044.txt', 'business/045.txt', 'business/046.txt', 'business/047.txt', 'business/048.txt', 'business/049.txt', 'business/050.txt', 'business/051.txt', 'business/052.txt', 'business/053.txt', 'business/054.txt', 'business/055.txt', 'business/056.txt', 'business/057.txt', 'business/058.txt', 'business/059.txt', 'business/060.txt', 'business/061.txt', 'business/062.txt', 'business/063.txt', 'business/064.txt', 'business/065.txt', 'business/066.txt', 'business/067.txt', 'business/068.txt', 'business/069.txt', 'business/070.txt', 'business/071.txt', 'business/072.txt', 'business/073.txt', 'business/074.txt', 'business/075.txt', 'business/076.txt', 'business/077.txt', 'business/078.txt', 'business/079.txt', 'business/080.txt', 'business/081.txt', 'business/082.txt', 'business/083.txt', 'business/084.txt', 'business/085.txt', 'business/086.txt', 'business/087.txt', 'business/088.txt', 'business/089.txt', 'business/090.txt', 'business/091.txt', 'business/092.txt', 'business/093.txt', 'business/094.txt', 'business/095.txt', 'business/096.txt', 'business/097.txt', 'business/098.txt', 'business/099.txt', 'business/100.txt', 'business/101.txt', 'business/102.txt', 'business/103.txt', 'business/104.txt', 'business/105.txt', 'business/106.txt', 'business/107.txt', 'business/108.txt', 'business/109.txt', 'business/110.txt', 'business/111.txt', 'business/112.txt', 'business/113.txt', 'business/114.txt', 'business/115.txt', 'business/116.txt', 'business/117.txt', 'business/118.txt', 'business/119.txt', 'business/120.txt', 'business/121.txt', 'business/122.txt', 'business/123.txt', 'business/124.txt', 'business/125.txt', 'business/126.txt', 'business/127.txt', 'business/128.txt', 'business/129.txt', 'business/130.txt', 'business/131.txt', 'business/132.txt', 'business/133.txt', 'business/134.txt', 'business/135.txt', 'business/136.txt', 'business/137.txt', 'business/138.txt', 'business/139.txt', 'business/140.txt', 'business/141.txt', 'business/142.txt', 'business/143.txt', 'business/144.txt', 'business/145.txt', 'business/146.txt', 'business/147.txt', 'business/148.txt', 'business/149.txt', 'business/150.txt', 'business/151.txt', 'business/152.txt', 'business/153.txt', 'business/154.txt', 'business/155.txt', 'business/156.txt', 'business/157.txt', 'business/158.txt', 'business/159.txt', 'business/160.txt', 'business/161.txt', 'business/162.txt', 'business/163.txt', 'business/164.txt', 'business/165.txt', 'business/166.txt', 'business/167.txt', 'business/168.txt', 'business/169.txt', 'business/170.txt', 'business/171.txt', 'business/172.txt', 'business/173.txt', 'business/174.txt', 'business/175.txt', 'business/176.txt', 'business/177.txt', 'business/178.txt', 'business/179.txt', 'business/180.txt', 'business/181.txt', 'business/182.txt', 'business/183.txt', 'business/184.txt', 'business/185.txt', 'business/186.txt', 'business/187.txt', 'business/188.txt', 'business/189.txt', 'business/190.txt', 'business/191.txt', 'business/192.txt', 'business/193.txt', 'business/194.txt', 'business/195.txt', 'business/196.txt', 'business/197.txt', 'business/198.txt', 'business/199.txt', 'business/200.txt', 'business/201.txt', 'business/202.txt', 'business/203.txt', 'business/204.txt', 'business/205.txt', 'business/206.txt', 'business/207.txt', 'business/208.txt', 'business/209.txt', 'business/210.txt', 'business/211.txt', 'business/212.txt', 'business/213.txt', 'business/214.txt', 'business/215.txt', 'business/216.txt', 'business/217.txt', 'business/218.txt', 'business/219.txt', 'business/220.txt', 'business/221.txt', 'business/222.txt', 'business/223.txt', 'business/224.txt', 'business/225.txt', 'business/226.txt', 'business/227.txt', 'business/228.txt', 'business/229.txt', 'business/230.txt', 'business/231.txt', 'business/232.txt', 'business/233.txt', 'business/234.txt', 'business/235.txt', 'business/236.txt', 'business/237.txt', 'business/238.txt', 'business/239.txt', 'business/240.txt', 'business/241.txt', 'business/242.txt', 'business/243.txt', 'business/244.txt', 'business/245.txt', 'business/246.txt', 'business/247.txt', 'business/248.txt', 'business/249.txt', 'business/250.txt', 'business/251.txt', 'business/252.txt', 'business/253.txt', 'business/254.txt', 'business/255.txt', 'business/256.txt', 'business/257.txt', 'business/258.txt', 'business/259.txt', 'business/260.txt', 'business/261.txt', 'business/262.txt', 'business/263.txt', 'business/264.txt', 'business/265.txt', 'business/266.txt', 'business/267.txt', 'business/268.txt', 'business/269.txt', 'business/270.txt', 'business/271.txt', 'business/272.txt', 'business/273.txt', 'business/274.txt', 'business/275.txt', 'business/276.txt', 'business/277.txt', 'business/278.txt', 'business/279.txt', 'business/280.txt', 'business/281.txt', 'business/282.txt', 'business/283.txt', 'business/284.txt', 'business/285.txt', 'business/286.txt', 'business/287.txt', 'business/288.txt', 'business/289.txt', 'business/290.txt', 'business/291.txt', 'business/292.txt', 'business/293.txt', 'business/294.txt', 'business/295.txt', 'business/296.txt', 'business/297.txt', 'business/298.txt', 'business/299.txt', 'business/300.txt', 'business/301.txt', 'business/302.txt', 'business/303.txt', 'business/304.txt', 'business/305.txt', 'business/306.txt', 'business/307.txt', 'business/308.txt', 'business/309.txt', 'business/310.txt', 'business/311.txt', 'business/312.txt', 'business/313.txt', 'business/314.txt', 'business/315.txt', 'business/316.txt', 'business/317.txt', 'business/318.txt', 'business/319.txt', 'business/320.txt', 'business/321.txt', 'business/322.txt', 'business/323.txt', 'business/324.txt', 'business/325.txt', 'business/326.txt', 'business/327.txt', 'business/328.txt', 'business/329.txt', 'business/330.txt', 'business/331.txt', 'business/332.txt', 'business/333.txt', 'business/334.txt', 'business/335.txt', 'business/336.txt', 'business/337.txt', 'business/338.txt', 'business/339.txt', 'business/340.txt', 'business/341.txt', 'business/342.txt', 'business/343.txt', 'business/344.txt', 'business/345.txt', 'business/346.txt', 'business/347.txt', 'business/348.txt', 'business/349.txt', 'business/350.txt', 'business/351.txt', 'business/352.txt', 'business/353.txt', 'business/354.txt', 'business/355.txt', 'business/356.txt', 'business/357.txt', 'business/358.txt', 'business/359.txt', 'business/360.txt', 'business/361.txt', 'business/362.txt', 'business/363.txt', 'business/364.txt', 'business/365.txt', 'business/366.txt', 'business/367.txt', 'business/368.txt', 'business/369.txt', 'business/370.txt', 'business/371.txt', 'business/372.txt', 'business/373.txt', 'business/374.txt', 'business/375.txt', 'business/376.txt', 'business/377.txt', 'business/378.txt', 'business/379.txt', 'business/380.txt', 'business/381.txt', 'business/382.txt', 'business/383.txt', 'business/384.txt', 'business/385.txt', 'business/386.txt', 'business/387.txt', 'business/388.txt', 'business/389.txt', 'business/390.txt', 'business/391.txt', 'business/392.txt', 'business/393.txt', 'business/394.txt', 'business/395.txt', 'business/396.txt', 'business/397.txt', 'business/398.txt', 'business/399.txt', 'business/400.txt', 'business/401.txt', 'business/402.txt', 'business/403.txt', 'business/404.txt', 'business/405.txt', 'business/406.txt', 'business/407.txt', 'business/408.txt', 'business/409.txt', 'business/410.txt', 'business/411.txt', 'business/412.txt', 'business/413.txt', 'business/414.txt', 'business/415.txt', 'business/416.txt', 'business/417.txt', 'business/418.txt', 'business/419.txt', 'business/420.txt', 'business/421.txt', 'business/422.txt', 'business/423.txt', 'business/424.txt', 'business/425.txt', 'business/426.txt', 'business/427.txt', 'business/428.txt', 'business/429.txt', 'business/430.txt', 'business/431.txt', 'business/432.txt', 'business/433.txt', 'business/434.txt', 'business/435.txt', 'business/436.txt', 'business/437.txt', 'business/438.txt', 'business/439.txt', 'business/440.txt', 'business/441.txt', 'business/442.txt', 'business/443.txt', 'business/444.txt', 'business/445.txt', 'business/446.txt', 'business/447.txt', 'business/448.txt', 'business/449.txt', 'business/450.txt', 'business/451.txt', 'business/452.txt', 'business/453.txt', 'business/454.txt', 'business/455.txt', 'business/456.txt', 'business/457.txt', 'business/458.txt', 'business/459.txt', 'business/460.txt', 'business/461.txt', 'business/462.txt', 'business/463.txt', 'business/464.txt', 'business/465.txt', 'business/466.txt', 'business/467.txt', 'business/468.txt', 'business/469.txt', 'business/470.txt', 'business/471.txt', 'business/472.txt', 'business/473.txt', 'business/474.txt', 'business/475.txt', 'business/476.txt', 'business/477.txt', 'business/478.txt', 'business/479.txt', 'business/480.txt', 'business/481.txt', 'business/482.txt', 'business/483.txt', 'business/484.txt', 'business/485.txt', 'business/486.txt', 'business/487.txt', 'business/488.txt', 'business/489.txt', 'business/490.txt', 'business/491.txt', 'business/492.txt', 'business/493.txt', 'business/494.txt', 'business/495.txt', 'business/496.txt', 'business/497.txt', 'business/498.txt', 'business/499.txt', 'business/500.txt', 'business/501.txt', 'business/502.txt', 'business/503.txt', 'business/504.txt', 'business/505.txt', 'business/506.txt', 'business/507.txt', 'business/508.txt', 'business/509.txt', 'business/510.txt', 'entertainment/001.txt', 'entertainment/002.txt', 'entertainment/003.txt', 'entertainment/004.txt', 'entertainment/005.txt', 'entertainment/006.txt', 'entertainment/007.txt', 'entertainment/008.txt', 'entertainment/009.txt', 'entertainment/010.txt', 'entertainment/011.txt', 'entertainment/012.txt', 'entertainment/013.txt', 'entertainment/014.txt', 'entertainment/015.txt', 'entertainment/016.txt', 'entertainment/017.txt', 'entertainment/018.txt', 'entertainment/019.txt', 'entertainment/020.txt', 'entertainment/021.txt', 'entertainment/022.txt', 'entertainment/023.txt', 'entertainment/024.txt', 'entertainment/025.txt', 'entertainment/026.txt', 'entertainment/027.txt', 'entertainment/028.txt', 'entertainment/029.txt', 'entertainment/030.txt', 'entertainment/031.txt', 'entertainment/032.txt', 'entertainment/033.txt', 'entertainment/034.txt', 'entertainment/035.txt', 'entertainment/036.txt', 'entertainment/037.txt', 'entertainment/038.txt', 'entertainment/039.txt', 'entertainment/040.txt', 'entertainment/041.txt', 'entertainment/042.txt', 'entertainment/043.txt', 'entertainment/044.txt', 'entertainment/045.txt', 'entertainment/046.txt', 'entertainment/047.txt', 'entertainment/048.txt', 'entertainment/049.txt', 'entertainment/050.txt', 'entertainment/051.txt', 'entertainment/052.txt', 'entertainment/053.txt', 'entertainment/054.txt', 'entertainment/055.txt', 'entertainment/056.txt', 'entertainment/057.txt', 'entertainment/058.txt', 'entertainment/059.txt', 'entertainment/060.txt', 'entertainment/061.txt', 'entertainment/062.txt', 'entertainment/063.txt', 'entertainment/064.txt', 'entertainment/065.txt', 'entertainment/066.txt', 'entertainment/067.txt', 'entertainment/068.txt', 'entertainment/069.txt', 'entertainment/070.txt', 'entertainment/071.txt', 'entertainment/072.txt', 'entertainment/073.txt', 'entertainment/074.txt', 'entertainment/075.txt', 'entertainment/076.txt', 'entertainment/077.txt', 'entertainment/078.txt', 'entertainment/079.txt', 'entertainment/080.txt', 'entertainment/081.txt', 'entertainment/082.txt', 'entertainment/083.txt', 'entertainment/084.txt', 'entertainment/085.txt', 'entertainment/086.txt', 'entertainment/087.txt', 'entertainment/088.txt', 'entertainment/089.txt', 'entertainment/090.txt', 'entertainment/091.txt', 'entertainment/092.txt', 'entertainment/093.txt', 'entertainment/094.txt', 'entertainment/095.txt', 'entertainment/096.txt', 'entertainment/097.txt', 'entertainment/098.txt', 'entertainment/099.txt', 'entertainment/100.txt', 'entertainment/101.txt', 'entertainment/102.txt', 'entertainment/103.txt', 'entertainment/104.txt', 'entertainment/105.txt', 'entertainment/106.txt', 'entertainment/107.txt', 'entertainment/108.txt', 'entertainment/109.txt', 'entertainment/110.txt', 'entertainment/111.txt', 'entertainment/112.txt', 'entertainment/113.txt', 'entertainment/114.txt', 'entertainment/115.txt', 'entertainment/116.txt', 'entertainment/117.txt', 'entertainment/118.txt', 'entertainment/119.txt', 'entertainment/120.txt', 'entertainment/121.txt', 'entertainment/122.txt', 'entertainment/123.txt', 'entertainment/124.txt', 'entertainment/125.txt', 'entertainment/126.txt', 'entertainment/127.txt', 'entertainment/128.txt', 'entertainment/129.txt', 'entertainment/130.txt', 'entertainment/131.txt', 'entertainment/132.txt', 'entertainment/133.txt', 'entertainment/134.txt', 'entertainment/135.txt', 'entertainment/136.txt', 'entertainment/137.txt', 'entertainment/138.txt', 'entertainment/139.txt', 'entertainment/140.txt', 'entertainment/141.txt', 'entertainment/142.txt', 'entertainment/143.txt', 'entertainment/144.txt', 'entertainment/145.txt', 'entertainment/146.txt', 'entertainment/147.txt', 'entertainment/148.txt', 'entertainment/149.txt', 'entertainment/150.txt', 'entertainment/151.txt', 'entertainment/152.txt', 'entertainment/153.txt', 'entertainment/154.txt', 'entertainment/155.txt', 'entertainment/156.txt', 'entertainment/157.txt', 'entertainment/158.txt', 'entertainment/159.txt', 'entertainment/160.txt', 'entertainment/161.txt', 'entertainment/162.txt', 'entertainment/163.txt', 'entertainment/164.txt', 'entertainment/165.txt', 'entertainment/166.txt', 'entertainment/167.txt', 'entertainment/168.txt', 'entertainment/169.txt', 'entertainment/170.txt', 'entertainment/171.txt', 'entertainment/172.txt', 'entertainment/173.txt', 'entertainment/174.txt', 'entertainment/175.txt', 'entertainment/176.txt', 'entertainment/177.txt', 'entertainment/178.txt', 'entertainment/179.txt', 'entertainment/180.txt', 'entertainment/181.txt', 'entertainment/182.txt', 'entertainment/183.txt', 'entertainment/184.txt', 'entertainment/185.txt', 'entertainment/186.txt', 'entertainment/187.txt', 'entertainment/188.txt', 'entertainment/189.txt', 'entertainment/190.txt', 'entertainment/191.txt', 'entertainment/192.txt', 'entertainment/193.txt', 'entertainment/194.txt', 'entertainment/195.txt', 'entertainment/196.txt', 'entertainment/197.txt', 'entertainment/198.txt', 'entertainment/199.txt', 'entertainment/200.txt', 'entertainment/201.txt', 'entertainment/202.txt', 'entertainment/203.txt', 'entertainment/204.txt', 'entertainment/205.txt', 'entertainment/206.txt', 'entertainment/207.txt', 'entertainment/208.txt', 'entertainment/209.txt', 'entertainment/210.txt', 'entertainment/211.txt', 'entertainment/212.txt', 'entertainment/213.txt', 'entertainment/214.txt', 'entertainment/215.txt', 'entertainment/216.txt', 'entertainment/217.txt', 'entertainment/218.txt', 'entertainment/219.txt', 'entertainment/220.txt', 'entertainment/221.txt', 'entertainment/222.txt', 'entertainment/223.txt', 'entertainment/224.txt', 'entertainment/225.txt', 'entertainment/226.txt', 'entertainment/227.txt', 'entertainment/228.txt', 'entertainment/229.txt', 'entertainment/230.txt', 'entertainment/231.txt', 'entertainment/232.txt', 'entertainment/233.txt', 'entertainment/234.txt', 'entertainment/235.txt', 'entertainment/236.txt', 'entertainment/237.txt', 'entertainment/238.txt', 'entertainment/239.txt', 'entertainment/240.txt', 'entertainment/241.txt', 'entertainment/242.txt', 'entertainment/243.txt', 'entertainment/244.txt', 'entertainment/245.txt', 'entertainment/246.txt', 'entertainment/247.txt', 'entertainment/248.txt', 'entertainment/249.txt', 'entertainment/250.txt', 'entertainment/251.txt', 'entertainment/252.txt', 'entertainment/253.txt', 'entertainment/254.txt', 'entertainment/255.txt', 'entertainment/256.txt', 'entertainment/257.txt', 'entertainment/258.txt', 'entertainment/259.txt', 'entertainment/260.txt', 'entertainment/261.txt', 'entertainment/262.txt', 'entertainment/263.txt', 'entertainment/264.txt', 'entertainment/265.txt', 'entertainment/266.txt', 'entertainment/267.txt', 'entertainment/268.txt', 'entertainment/269.txt', 'entertainment/270.txt', 'entertainment/271.txt', 'entertainment/272.txt', 'entertainment/273.txt', 'entertainment/274.txt', 'entertainment/275.txt', 'entertainment/276.txt', 'entertainment/277.txt', 'entertainment/278.txt', 'entertainment/279.txt', 'entertainment/280.txt', 'entertainment/281.txt', 'entertainment/282.txt', 'entertainment/283.txt', 'entertainment/284.txt', 'entertainment/285.txt', 'entertainment/286.txt', 'entertainment/287.txt', 'entertainment/288.txt', 'entertainment/289.txt', 'entertainment/290.txt', 'entertainment/291.txt', 'entertainment/292.txt', 'entertainment/293.txt', 'entertainment/294.txt', 'entertainment/295.txt', 'entertainment/296.txt', 'entertainment/297.txt', 'entertainment/298.txt', 'entertainment/299.txt', 'entertainment/300.txt', 'entertainment/301.txt', 'entertainment/302.txt', 'entertainment/303.txt', 'entertainment/304.txt', 'entertainment/305.txt', 'entertainment/306.txt', 'entertainment/307.txt', 'entertainment/308.txt', 'entertainment/309.txt', 'entertainment/310.txt', 'entertainment/311.txt', 'entertainment/312.txt', 'entertainment/313.txt', 'entertainment/314.txt', 'entertainment/315.txt', 'entertainment/316.txt', 'entertainment/317.txt', 'entertainment/318.txt', 'entertainment/319.txt', 'entertainment/320.txt', 'entertainment/321.txt', 'entertainment/322.txt', 'entertainment/323.txt', 'entertainment/324.txt', 'entertainment/325.txt', 'entertainment/326.txt', 'entertainment/327.txt', 'entertainment/328.txt', 'entertainment/329.txt', 'entertainment/330.txt', 'entertainment/331.txt', 'entertainment/332.txt', 'entertainment/333.txt', 'entertainment/334.txt', 'entertainment/335.txt', 'entertainment/336.txt', 'entertainment/337.txt', 'entertainment/338.txt', 'entertainment/339.txt', 'entertainment/340.txt', 'entertainment/341.txt', 'entertainment/342.txt', 'entertainment/343.txt', 'entertainment/344.txt', 'entertainment/345.txt', 'entertainment/346.txt', 'entertainment/347.txt', 'entertainment/348.txt', 'entertainment/349.txt', 'entertainment/350.txt', 'entertainment/351.txt', 'entertainment/352.txt', 'entertainment/353.txt', 'entertainment/354.txt', 'entertainment/355.txt', 'entertainment/356.txt', 'entertainment/357.txt', 'entertainment/358.txt', 'entertainment/359.txt', 'entertainment/360.txt', 'entertainment/361.txt', 'entertainment/362.txt', 'entertainment/363.txt', 'entertainment/364.txt', 'entertainment/365.txt', 'entertainment/366.txt', 'entertainment/367.txt', 'entertainment/368.txt', 'entertainment/369.txt', 'entertainment/370.txt', 'entertainment/371.txt', 'entertainment/372.txt', 'entertainment/373.txt', 'entertainment/374.txt', 'entertainment/375.txt', 'entertainment/376.txt', 'entertainment/377.txt', 'entertainment/378.txt', 'entertainment/379.txt', 'entertainment/380.txt', 'entertainment/381.txt', 'entertainment/382.txt', 'entertainment/383.txt', 'entertainment/384.txt', 'entertainment/385.txt', 'entertainment/386.txt', 'politics/001.txt', 'politics/002.txt', 'politics/003.txt', 'politics/004.txt', 'politics/005.txt', 'politics/006.txt', 'politics/007.txt', 'politics/008.txt', 'politics/009.txt', 'politics/010.txt', 'politics/011.txt', 'politics/012.txt', 'politics/013.txt', 'politics/014.txt', 'politics/015.txt', 'politics/016.txt', 'politics/017.txt', 'politics/018.txt', 'politics/019.txt', 'politics/020.txt', 'politics/021.txt', 'politics/022.txt', 'politics/023.txt', 'politics/024.txt', 'politics/025.txt', 'politics/026.txt', 'politics/027.txt', 'politics/028.txt', 'politics/029.txt', 'politics/030.txt', 'politics/031.txt', 'politics/032.txt', 'politics/033.txt', 'politics/034.txt', 'politics/035.txt', 'politics/036.txt', 'politics/037.txt', 'politics/038.txt', 'politics/039.txt', 'politics/040.txt', 'politics/041.txt', 'politics/042.txt', 'politics/043.txt', 'politics/044.txt', 'politics/045.txt', 'politics/046.txt', 'politics/047.txt', 'politics/048.txt', 'politics/049.txt', 'politics/050.txt', 'politics/051.txt', 'politics/052.txt', 'politics/053.txt', 'politics/054.txt', 'politics/055.txt', 'politics/056.txt', 'politics/057.txt', 'politics/058.txt', 'politics/059.txt', 'politics/060.txt', 'politics/061.txt', 'politics/062.txt', 'politics/063.txt', 'politics/064.txt', 'politics/065.txt', 'politics/066.txt', 'politics/067.txt', 'politics/068.txt', 'politics/069.txt', 'politics/070.txt', 'politics/071.txt', 'politics/072.txt', 'politics/073.txt', 'politics/074.txt', 'politics/075.txt', 'politics/076.txt', 'politics/077.txt', 'politics/078.txt', 'politics/079.txt', 'politics/080.txt', 'politics/081.txt', 'politics/082.txt', 'politics/083.txt', 'politics/084.txt', 'politics/085.txt', 'politics/086.txt', 'politics/087.txt', 'politics/088.txt', 'politics/089.txt', 'politics/090.txt', 'politics/091.txt', 'politics/092.txt', 'politics/093.txt', 'politics/094.txt', 'politics/095.txt', 'politics/096.txt', 'politics/097.txt', 'politics/098.txt', 'politics/099.txt', 'politics/100.txt', 'politics/101.txt', 'politics/102.txt', 'politics/103.txt', 'politics/104.txt', 'politics/105.txt', 'politics/106.txt', 'politics/107.txt', 'politics/108.txt', 'politics/109.txt', 'politics/110.txt', 'politics/111.txt', 'politics/112.txt', 'politics/113.txt', 'politics/114.txt', 'politics/115.txt', 'politics/116.txt', 'politics/117.txt', 'politics/118.txt', 'politics/119.txt', 'politics/120.txt', 'politics/121.txt', 'politics/122.txt', 'politics/123.txt', 'politics/124.txt', 'politics/125.txt', 'politics/126.txt', 'politics/127.txt', 'politics/128.txt', 'politics/129.txt', 'politics/130.txt', 'politics/131.txt', 'politics/132.txt', 'politics/133.txt', 'politics/134.txt', 'politics/135.txt', 'politics/136.txt', 'politics/137.txt', 'politics/138.txt', 'politics/139.txt', 'politics/140.txt', 'politics/141.txt', 'politics/142.txt', 'politics/143.txt', 'politics/144.txt', 'politics/145.txt', 'politics/146.txt', 'politics/147.txt', 'politics/148.txt', 'politics/149.txt', 'politics/150.txt', 'politics/151.txt', 'politics/152.txt', 'politics/153.txt', 'politics/154.txt', 'politics/155.txt', 'politics/156.txt', 'politics/157.txt', 'politics/158.txt', 'politics/159.txt', 'politics/160.txt', 'politics/161.txt', 'politics/162.txt', 'politics/163.txt', 'politics/164.txt', 'politics/165.txt', 'politics/166.txt', 'politics/167.txt', 'politics/168.txt', 'politics/169.txt', 'politics/170.txt', 'politics/171.txt', 'politics/172.txt', 'politics/173.txt', 'politics/174.txt', 'politics/175.txt', 'politics/176.txt', 'politics/177.txt', 'politics/178.txt', 'politics/179.txt', 'politics/180.txt', 'politics/181.txt', 'politics/182.txt', 'politics/183.txt', 'politics/184.txt', 'politics/185.txt', 'politics/186.txt', 'politics/187.txt', 'politics/188.txt', 'politics/189.txt', 'politics/190.txt', 'politics/191.txt', 'politics/192.txt', 'politics/193.txt', 'politics/194.txt', 'politics/195.txt', 'politics/196.txt', 'politics/197.txt', 'politics/198.txt', 'politics/199.txt', 'politics/200.txt', 'politics/201.txt', 'politics/202.txt', 'politics/203.txt', 'politics/204.txt', 'politics/205.txt', 'politics/206.txt', 'politics/207.txt', 'politics/208.txt', 'politics/209.txt', 'politics/210.txt', 'politics/211.txt', 'politics/212.txt', 'politics/213.txt', 'politics/214.txt', 'politics/215.txt', 'politics/216.txt', 'politics/217.txt', 'politics/218.txt', 'politics/219.txt', 'politics/220.txt', 'politics/221.txt', 'politics/222.txt', 'politics/223.txt', 'politics/224.txt', 'politics/225.txt', 'politics/226.txt', 'politics/227.txt', 'politics/228.txt', 'politics/229.txt', 'politics/230.txt', 'politics/231.txt', 'politics/232.txt', 'politics/233.txt', 'politics/234.txt', 'politics/235.txt', 'politics/236.txt', 'politics/237.txt', 'politics/238.txt', 'politics/239.txt', 'politics/240.txt', 'politics/241.txt', 'politics/242.txt', 'politics/243.txt', 'politics/244.txt', 'politics/245.txt', 'politics/246.txt', 'politics/247.txt', 'politics/248.txt', 'politics/249.txt', 'politics/250.txt', 'politics/251.txt', 'politics/252.txt', 'politics/253.txt', 'politics/254.txt', 'politics/255.txt', 'politics/256.txt', 'politics/257.txt', 'politics/258.txt', 'politics/259.txt', 'politics/260.txt', 'politics/261.txt', 'politics/262.txt', 'politics/263.txt', 'politics/264.txt', 'politics/265.txt', 'politics/266.txt', 'politics/267.txt', 'politics/268.txt', 'politics/269.txt', 'politics/270.txt', 'politics/271.txt', 'politics/272.txt', 'politics/273.txt', 'politics/274.txt', 'politics/275.txt', 'politics/276.txt', 'politics/277.txt', 'politics/278.txt', 'politics/279.txt', 'politics/280.txt', 'politics/281.txt', 'politics/282.txt', 'politics/283.txt', 'politics/284.txt', 'politics/285.txt', 'politics/286.txt', 'politics/287.txt', 'politics/288.txt', 'politics/289.txt', 'politics/290.txt', 'politics/291.txt', 'politics/292.txt', 'politics/293.txt', 'politics/294.txt', 'politics/295.txt', 'politics/296.txt', 'politics/297.txt', 'politics/298.txt', 'politics/299.txt', 'politics/300.txt', 'politics/301.txt', 'politics/302.txt', 'politics/303.txt', 'politics/304.txt', 'politics/305.txt', 'politics/306.txt', 'politics/307.txt', 'politics/308.txt', 'politics/309.txt', 'politics/310.txt', 'politics/311.txt', 'politics/312.txt', 'politics/313.txt', 'politics/314.txt', 'politics/315.txt', 'politics/316.txt', 'politics/317.txt', 'politics/318.txt', 'politics/319.txt', 'politics/320.txt', 'politics/321.txt', 'politics/322.txt', 'politics/323.txt', 'politics/324.txt', 'politics/325.txt', 'politics/326.txt', 'politics/327.txt', 'politics/328.txt', 'politics/329.txt', 'politics/330.txt', 'politics/331.txt', 'politics/332.txt', 'politics/333.txt', 'politics/334.txt', 'politics/335.txt', 'politics/336.txt', 'politics/337.txt', 'politics/338.txt', 'politics/339.txt', 'politics/340.txt', 'politics/341.txt', 'politics/342.txt', 'politics/343.txt', 'politics/344.txt', 'politics/345.txt', 'politics/346.txt', 'politics/347.txt', 'politics/348.txt', 'politics/349.txt', 'politics/350.txt', 'politics/351.txt', 'politics/352.txt', 'politics/353.txt', 'politics/354.txt', 'politics/355.txt', 'politics/356.txt', 'politics/357.txt', 'politics/358.txt', 'politics/359.txt', 'politics/360.txt', 'politics/361.txt', 'politics/362.txt', 'politics/363.txt', 'politics/364.txt', 'politics/365.txt', 'politics/366.txt', 'politics/367.txt', 'politics/368.txt', 'politics/369.txt', 'politics/370.txt', 'politics/371.txt', 'politics/372.txt', 'politics/373.txt', 'politics/374.txt', 'politics/375.txt', 'politics/376.txt', 'politics/377.txt', 'politics/378.txt', 'politics/379.txt', 'politics/380.txt', 'politics/381.txt', 'politics/382.txt', 'politics/383.txt', 'politics/384.txt', 'politics/385.txt', 'politics/386.txt', 'politics/387.txt', 'politics/388.txt', 'politics/389.txt', 'politics/390.txt', 'politics/391.txt', 'politics/392.txt', 'politics/393.txt', 'politics/394.txt', 'politics/395.txt', 'politics/396.txt', 'politics/397.txt', 'politics/398.txt', 'politics/399.txt', 'politics/400.txt', 'politics/401.txt', 'politics/402.txt', 'politics/403.txt', 'politics/404.txt', 'politics/405.txt', 'politics/406.txt', 'politics/407.txt', 'politics/408.txt', 'politics/409.txt', 'politics/410.txt', 'politics/411.txt', 'politics/412.txt', 'politics/413.txt', 'politics/414.txt', 'politics/415.txt', 'politics/416.txt', 'politics/417.txt', 'sport/001.txt', 'sport/002.txt', 'sport/003.txt', 'sport/004.txt', 'sport/005.txt', 'sport/006.txt', 'sport/007.txt', 'sport/008.txt', 'sport/009.txt', 'sport/010.txt', 'sport/011.txt', 'sport/012.txt', 'sport/013.txt', 'sport/014.txt', 'sport/015.txt', 'sport/016.txt', 'sport/017.txt', 'sport/018.txt', 'sport/019.txt', 'sport/020.txt', 'sport/021.txt', 'sport/022.txt', 'sport/023.txt', 'sport/024.txt', 'sport/025.txt', 'sport/026.txt', 'sport/027.txt', 'sport/028.txt', 'sport/029.txt', 'sport/030.txt', 'sport/031.txt', 'sport/032.txt', 'sport/033.txt', 'sport/034.txt', 'sport/035.txt', 'sport/036.txt', 'sport/037.txt', 'sport/038.txt', 'sport/039.txt', 'sport/040.txt', 'sport/041.txt', 'sport/042.txt', 'sport/043.txt', 'sport/044.txt', 'sport/045.txt', 'sport/046.txt', 'sport/047.txt', 'sport/048.txt', 'sport/049.txt', 'sport/050.txt', 'sport/051.txt', 'sport/052.txt', 'sport/053.txt', 'sport/054.txt', 'sport/055.txt', 'sport/056.txt', 'sport/057.txt', 'sport/058.txt', 'sport/059.txt', 'sport/060.txt', 'sport/061.txt', 'sport/062.txt', 'sport/063.txt', 'sport/064.txt', 'sport/065.txt', 'sport/066.txt', 'sport/067.txt', 'sport/068.txt', 'sport/069.txt', 'sport/070.txt', 'sport/071.txt', 'sport/072.txt', 'sport/073.txt', 'sport/074.txt', 'sport/075.txt', 'sport/076.txt', 'sport/077.txt', 'sport/078.txt', 'sport/079.txt', 'sport/080.txt', 'sport/081.txt', 'sport/082.txt', 'sport/083.txt', 'sport/084.txt', 'sport/085.txt', 'sport/086.txt', 'sport/087.txt', 'sport/088.txt', 'sport/089.txt', 'sport/090.txt', 'sport/091.txt', 'sport/092.txt', 'sport/093.txt', 'sport/094.txt', 'sport/095.txt', 'sport/096.txt', 'sport/097.txt', 'sport/098.txt', 'sport/099.txt', 'sport/100.txt', 'sport/101.txt', 'sport/102.txt', 'sport/103.txt', 'sport/104.txt', 'sport/105.txt', 'sport/106.txt', 'sport/107.txt', 'sport/108.txt', 'sport/109.txt', 'sport/110.txt', 'sport/111.txt', 'sport/112.txt', 'sport/113.txt', 'sport/114.txt', 'sport/115.txt', 'sport/116.txt', 'sport/117.txt', 'sport/118.txt', 'sport/119.txt', 'sport/120.txt', 'sport/121.txt', 'sport/122.txt', 'sport/123.txt', 'sport/124.txt', 'sport/125.txt', 'sport/126.txt', 'sport/127.txt', 'sport/128.txt', 'sport/129.txt', 'sport/130.txt', 'sport/131.txt', 'sport/132.txt', 'sport/133.txt', 'sport/134.txt', 'sport/135.txt', 'sport/136.txt', 'sport/137.txt', 'sport/138.txt', 'sport/139.txt', 'sport/140.txt', 'sport/141.txt', 'sport/142.txt', 'sport/143.txt', 'sport/144.txt', 'sport/145.txt', 'sport/146.txt', 'sport/147.txt', 'sport/148.txt', 'sport/149.txt', 'sport/150.txt', 'sport/151.txt', 'sport/152.txt', 'sport/153.txt', 'sport/154.txt', 'sport/155.txt', 'sport/156.txt', 'sport/157.txt', 'sport/158.txt', 'sport/159.txt', 'sport/160.txt', 'sport/161.txt', 'sport/162.txt', 'sport/163.txt', 'sport/164.txt', 'sport/165.txt', 'sport/166.txt', 'sport/167.txt', 'sport/168.txt', 'sport/169.txt', 'sport/170.txt', 'sport/171.txt', 'sport/172.txt', 'sport/173.txt', 'sport/174.txt', 'sport/175.txt', 'sport/176.txt', 'sport/177.txt', 'sport/178.txt', 'sport/179.txt', 'sport/180.txt', 'sport/181.txt', 'sport/182.txt', 'sport/183.txt', 'sport/184.txt', 'sport/185.txt', 'sport/186.txt', 'sport/187.txt', 'sport/188.txt', 'sport/189.txt', 'sport/190.txt', 'sport/191.txt', 'sport/192.txt', 'sport/193.txt', 'sport/194.txt', 'sport/195.txt', 'sport/196.txt', 'sport/197.txt', 'sport/198.txt', 'sport/199.txt', 'sport/200.txt', 'sport/201.txt', 'sport/202.txt', 'sport/203.txt', 'sport/204.txt', 'sport/205.txt', 'sport/206.txt', 'sport/207.txt', 'sport/208.txt', 'sport/209.txt', 'sport/210.txt', 'sport/211.txt', 'sport/212.txt', 'sport/213.txt', 'sport/214.txt', 'sport/215.txt', 'sport/216.txt', 'sport/217.txt', 'sport/218.txt', 'sport/219.txt', 'sport/220.txt', 'sport/221.txt', 'sport/222.txt', 'sport/223.txt', 'sport/224.txt', 'sport/225.txt', 'sport/226.txt', 'sport/227.txt', 'sport/228.txt', 'sport/229.txt', 'sport/230.txt', 'sport/231.txt', 'sport/232.txt', 'sport/233.txt', 'sport/234.txt', 'sport/235.txt', 'sport/236.txt', 'sport/237.txt', 'sport/238.txt', 'sport/239.txt', 'sport/240.txt', 'sport/241.txt', 'sport/242.txt', 'sport/243.txt', 'sport/244.txt', 'sport/245.txt', 'sport/246.txt', 'sport/247.txt', 'sport/248.txt', 'sport/249.txt', 'sport/250.txt', 'sport/251.txt', 'sport/252.txt', 'sport/253.txt', 'sport/254.txt', 'sport/255.txt', 'sport/256.txt', 'sport/257.txt', 'sport/258.txt', 'sport/259.txt', 'sport/260.txt', 'sport/261.txt', 'sport/262.txt', 'sport/263.txt', 'sport/264.txt', 'sport/265.txt', 'sport/266.txt', 'sport/267.txt', 'sport/268.txt', 'sport/269.txt', 'sport/270.txt', 'sport/271.txt', 'sport/272.txt', 'sport/273.txt', 'sport/274.txt', 'sport/275.txt', 'sport/276.txt', 'sport/277.txt', 'sport/278.txt', 'sport/279.txt', 'sport/280.txt', 'sport/281.txt', 'sport/282.txt', 'sport/283.txt', 'sport/284.txt', 'sport/285.txt', 'sport/286.txt', 'sport/287.txt', 'sport/288.txt', 'sport/289.txt', 'sport/290.txt', 'sport/291.txt', 'sport/292.txt', 'sport/293.txt', 'sport/294.txt', 'sport/295.txt', 'sport/296.txt', 'sport/297.txt', 'sport/298.txt', 'sport/299.txt', 'sport/300.txt', 'sport/301.txt', 'sport/302.txt', 'sport/303.txt', 'sport/304.txt', 'sport/305.txt', 'sport/306.txt', 'sport/307.txt', 'sport/308.txt', 'sport/309.txt', 'sport/310.txt', 'sport/311.txt', 'sport/312.txt', 'sport/313.txt', 'sport/314.txt', 'sport/315.txt', 'sport/316.txt', 'sport/317.txt', 'sport/318.txt', 'sport/319.txt', 'sport/320.txt', 'sport/321.txt', 'sport/322.txt', 'sport/323.txt', 'sport/324.txt', 'sport/325.txt', 'sport/326.txt', 'sport/327.txt', 'sport/328.txt', 'sport/329.txt', 'sport/330.txt', 'sport/331.txt', 'sport/332.txt', 'sport/333.txt', 'sport/334.txt', 'sport/335.txt', 'sport/336.txt', 'sport/337.txt', 'sport/338.txt', 'sport/339.txt', 'sport/340.txt', 'sport/341.txt', 'sport/342.txt', 'sport/343.txt', 'sport/344.txt', 'sport/345.txt', 'sport/346.txt', 'sport/347.txt', 'sport/348.txt', 'sport/349.txt', 'sport/350.txt', 'sport/351.txt', 'sport/352.txt', 'sport/353.txt', 'sport/354.txt', 'sport/355.txt', 'sport/356.txt', 'sport/357.txt', 'sport/358.txt', 'sport/359.txt', 'sport/360.txt', 'sport/361.txt', 'sport/362.txt', 'sport/363.txt', 'sport/364.txt', 'sport/365.txt', 'sport/366.txt', 'sport/367.txt', 'sport/368.txt', 'sport/369.txt', 'sport/370.txt', 'sport/371.txt', 'sport/372.txt', 'sport/373.txt', 'sport/374.txt', 'sport/375.txt', 'sport/376.txt', 'sport/377.txt', 'sport/378.txt', 'sport/379.txt', 'sport/380.txt', 'sport/381.txt', 'sport/382.txt', 'sport/383.txt', 'sport/384.txt', 'sport/385.txt', 'sport/386.txt', 'sport/387.txt', 'sport/388.txt', 'sport/389.txt', 'sport/390.txt', 'sport/391.txt', 'sport/392.txt', 'sport/393.txt', 'sport/394.txt', 'sport/395.txt', 'sport/396.txt', 'sport/397.txt', 'sport/398.txt', 'sport/399.txt', 'sport/400.txt', 'sport/401.txt', 'sport/402.txt', 'sport/403.txt', 'sport/404.txt', 'sport/405.txt', 'sport/406.txt', 'sport/407.txt', 'sport/408.txt', 'sport/409.txt', 'sport/410.txt', 'sport/411.txt', 'sport/412.txt', 'sport/413.txt', 'sport/414.txt', 'sport/415.txt', 'sport/416.txt', 'sport/417.txt', 'sport/418.txt', 'sport/419.txt', 'sport/420.txt', 'sport/421.txt', 'sport/422.txt', 'sport/423.txt', 'sport/424.txt', 'sport/425.txt', 'sport/426.txt', 'sport/427.txt', 'sport/428.txt', 'sport/429.txt', 'sport/430.txt', 'sport/431.txt', 'sport/432.txt', 'sport/433.txt', 'sport/434.txt', 'sport/435.txt', 'sport/436.txt', 'sport/437.txt', 'sport/438.txt', 'sport/439.txt', 'sport/440.txt', 'sport/441.txt', 'sport/442.txt', 'sport/443.txt', 'sport/444.txt', 'sport/445.txt', 'sport/446.txt', 'sport/447.txt', 'sport/448.txt', 'sport/449.txt', 'sport/450.txt', 'sport/451.txt', 'sport/452.txt', 'sport/453.txt', 'sport/454.txt', 'sport/455.txt', 'sport/456.txt', 'sport/457.txt', 'sport/458.txt', 'sport/459.txt', 'sport/460.txt', 'sport/461.txt', 'sport/462.txt', 'sport/463.txt', 'sport/464.txt', 'sport/465.txt', 'sport/466.txt', 'sport/467.txt', 'sport/468.txt', 'sport/469.txt', 'sport/470.txt', 'sport/471.txt', 'sport/472.txt', 'sport/473.txt', 'sport/474.txt', 'sport/475.txt', 'sport/476.txt', 'sport/477.txt', 'sport/478.txt', 'sport/479.txt', 'sport/480.txt', 'sport/481.txt', 'sport/482.txt', 'sport/483.txt', 'sport/484.txt', 'sport/485.txt', 'sport/486.txt', 'sport/487.txt', 'sport/488.txt', 'sport/489.txt', 'sport/490.txt', 'sport/491.txt', 'sport/492.txt', 'sport/493.txt', 'sport/494.txt', 'sport/495.txt', 'sport/496.txt', 'sport/497.txt', 'sport/498.txt', 'sport/499.txt', 'sport/500.txt', 'sport/501.txt', 'sport/502.txt', 'sport/503.txt', 'sport/504.txt', 'sport/505.txt', 'sport/506.txt', 'sport/507.txt', 'sport/508.txt', 'sport/509.txt', 'sport/510.txt', 'sport/511.txt', 'tech/001.txt', 'tech/002.txt', 'tech/003.txt', 'tech/004.txt', 'tech/005.txt', 'tech/006.txt', 'tech/007.txt', 'tech/008.txt', 'tech/009.txt', 'tech/010.txt', 'tech/011.txt', 'tech/012.txt', 'tech/013.txt', 'tech/014.txt', 'tech/015.txt', 'tech/016.txt', 'tech/017.txt', 'tech/018.txt', 'tech/019.txt', 'tech/020.txt', 'tech/021.txt', 'tech/022.txt', 'tech/023.txt', 'tech/024.txt', 'tech/025.txt', 'tech/026.txt', 'tech/027.txt', 'tech/028.txt', 'tech/029.txt', 'tech/030.txt', 'tech/031.txt', 'tech/032.txt', 'tech/033.txt', 'tech/034.txt', 'tech/035.txt', 'tech/036.txt', 'tech/037.txt', 'tech/038.txt', 'tech/039.txt', 'tech/040.txt', 'tech/041.txt', 'tech/042.txt', 'tech/043.txt', 'tech/044.txt', 'tech/045.txt', 'tech/046.txt', 'tech/047.txt', 'tech/048.txt', 'tech/049.txt', 'tech/050.txt', 'tech/051.txt', 'tech/052.txt', 'tech/053.txt', 'tech/054.txt', 'tech/055.txt', 'tech/056.txt', 'tech/057.txt', 'tech/058.txt', 'tech/059.txt', 'tech/060.txt', 'tech/061.txt', 'tech/062.txt', 'tech/063.txt', 'tech/064.txt', 'tech/065.txt', 'tech/066.txt', 'tech/067.txt', 'tech/068.txt', 'tech/069.txt', 'tech/070.txt', 'tech/071.txt', 'tech/072.txt', 'tech/073.txt', 'tech/074.txt', 'tech/075.txt', 'tech/076.txt', 'tech/077.txt', 'tech/078.txt', 'tech/079.txt', 'tech/080.txt', 'tech/081.txt', 'tech/082.txt', 'tech/083.txt', 'tech/084.txt', 'tech/085.txt', 'tech/086.txt', 'tech/087.txt', 'tech/088.txt', 'tech/089.txt', 'tech/090.txt', 'tech/091.txt', 'tech/092.txt', 'tech/093.txt', 'tech/094.txt', 'tech/095.txt', 'tech/096.txt', 'tech/097.txt', 'tech/098.txt', 'tech/099.txt', 'tech/100.txt', 'tech/101.txt', 'tech/102.txt', 'tech/103.txt', 'tech/104.txt', 'tech/105.txt', 'tech/106.txt', 'tech/107.txt', 'tech/108.txt', 'tech/109.txt', 'tech/110.txt', 'tech/111.txt', 'tech/112.txt', 'tech/113.txt', 'tech/114.txt', 'tech/115.txt', 'tech/116.txt', 'tech/117.txt', 'tech/118.txt', 'tech/119.txt', 'tech/120.txt', 'tech/121.txt', 'tech/122.txt', 'tech/123.txt', 'tech/124.txt', 'tech/125.txt', 'tech/126.txt', 'tech/127.txt', 'tech/128.txt', 'tech/129.txt', 'tech/130.txt', 'tech/131.txt', 'tech/132.txt', 'tech/133.txt', 'tech/134.txt', 'tech/135.txt', 'tech/136.txt', 'tech/137.txt', 'tech/138.txt', 'tech/139.txt', 'tech/140.txt', 'tech/141.txt', 'tech/142.txt', 'tech/143.txt', 'tech/144.txt', 'tech/145.txt', 'tech/146.txt', 'tech/147.txt', 'tech/148.txt', 'tech/149.txt', 'tech/150.txt', 'tech/151.txt', 'tech/152.txt', 'tech/153.txt', 'tech/154.txt', 'tech/155.txt', 'tech/156.txt', 'tech/157.txt', 'tech/158.txt', 'tech/159.txt', 'tech/160.txt', 'tech/161.txt', 'tech/162.txt', 'tech/163.txt', 'tech/164.txt', 'tech/165.txt', 'tech/166.txt', 'tech/167.txt', 'tech/168.txt', 'tech/169.txt', 'tech/170.txt', 'tech/171.txt', 'tech/172.txt', 'tech/173.txt', 'tech/174.txt', 'tech/175.txt', 'tech/176.txt', 'tech/177.txt', 'tech/178.txt', 'tech/179.txt', 'tech/180.txt', 'tech/181.txt', 'tech/182.txt', 'tech/183.txt', 'tech/184.txt', 'tech/185.txt', 'tech/186.txt', 'tech/187.txt', 'tech/188.txt', 'tech/189.txt', 'tech/190.txt', 'tech/191.txt', 'tech/192.txt', 'tech/193.txt', 'tech/194.txt', 'tech/195.txt', 'tech/196.txt', 'tech/197.txt', 'tech/198.txt', 'tech/199.txt', 'tech/200.txt', 'tech/201.txt', 'tech/202.txt', 'tech/203.txt', 'tech/204.txt', 'tech/205.txt', 'tech/206.txt', 'tech/207.txt', 'tech/208.txt', 'tech/209.txt', 'tech/210.txt', 'tech/211.txt', 'tech/212.txt', 'tech/213.txt', 'tech/214.txt', 'tech/215.txt', 'tech/216.txt', 'tech/217.txt', 'tech/218.txt', 'tech/219.txt', 'tech/220.txt', 'tech/221.txt', 'tech/222.txt', 'tech/223.txt', 'tech/224.txt', 'tech/225.txt', 'tech/226.txt', 'tech/227.txt', 'tech/228.txt', 'tech/229.txt', 'tech/230.txt', 'tech/231.txt', 'tech/232.txt', 'tech/233.txt', 'tech/234.txt', 'tech/235.txt', 'tech/236.txt', 'tech/237.txt', 'tech/238.txt', 'tech/239.txt', 'tech/240.txt', 'tech/241.txt', 'tech/242.txt', 'tech/243.txt', 'tech/244.txt', 'tech/245.txt', 'tech/246.txt', 'tech/247.txt', 'tech/248.txt', 'tech/249.txt', 'tech/250.txt', 'tech/251.txt', 'tech/252.txt', 'tech/253.txt', 'tech/254.txt', 'tech/255.txt', 'tech/256.txt', 'tech/257.txt', 'tech/258.txt', 'tech/259.txt', 'tech/260.txt', 'tech/261.txt', 'tech/262.txt', 'tech/263.txt', 'tech/264.txt', 'tech/265.txt', 'tech/266.txt', 'tech/267.txt', 'tech/268.txt', 'tech/269.txt', 'tech/270.txt', 'tech/271.txt', 'tech/272.txt', 'tech/273.txt', 'tech/274.txt', 'tech/275.txt', 'tech/276.txt', 'tech/277.txt', 'tech/278.txt', 'tech/279.txt', 'tech/280.txt', 'tech/281.txt', 'tech/282.txt', 'tech/283.txt', 'tech/284.txt', 'tech/285.txt', 'tech/286.txt', 'tech/287.txt', 'tech/288.txt', 'tech/289.txt', 'tech/290.txt', 'tech/291.txt', 'tech/292.txt', 'tech/293.txt', 'tech/294.txt', 'tech/295.txt', 'tech/296.txt', 'tech/297.txt', 'tech/298.txt', 'tech/299.txt', 'tech/300.txt', 'tech/301.txt', 'tech/302.txt', 'tech/303.txt', 'tech/304.txt', 'tech/305.txt', 'tech/306.txt', 'tech/307.txt', 'tech/308.txt', 'tech/309.txt', 'tech/310.txt', 'tech/311.txt', 'tech/312.txt', 'tech/313.txt', 'tech/314.txt', 'tech/315.txt', 'tech/316.txt', 'tech/317.txt', 'tech/318.txt', 'tech/319.txt', 'tech/320.txt', 'tech/321.txt', 'tech/322.txt', 'tech/323.txt', 'tech/324.txt', 'tech/325.txt', 'tech/326.txt', 'tech/327.txt', 'tech/328.txt', 'tech/329.txt', 'tech/330.txt', 'tech/331.txt', 'tech/332.txt', 'tech/333.txt', 'tech/334.txt', 'tech/335.txt', 'tech/336.txt', 'tech/337.txt', 'tech/338.txt', 'tech/339.txt', 'tech/340.txt', 'tech/341.txt', 'tech/342.txt', 'tech/343.txt', 'tech/344.txt', 'tech/345.txt', 'tech/346.txt', 'tech/347.txt', 'tech/348.txt', 'tech/349.txt', 'tech/350.txt', 'tech/351.txt', 'tech/352.txt', 'tech/353.txt', 'tech/354.txt', 'tech/355.txt', 'tech/356.txt', 'tech/357.txt', 'tech/358.txt', 'tech/359.txt', 'tech/360.txt', 'tech/361.txt', 'tech/362.txt', 'tech/363.txt', 'tech/364.txt', 'tech/365.txt', 'tech/366.txt', 'tech/367.txt', 'tech/368.txt', 'tech/369.txt', 'tech/370.txt', 'tech/371.txt', 'tech/372.txt', 'tech/373.txt', 'tech/374.txt', 'tech/375.txt', 'tech/376.txt', 'tech/377.txt', 'tech/378.txt', 'tech/379.txt', 'tech/380.txt', 'tech/381.txt', 'tech/382.txt', 'tech/383.txt', 'tech/384.txt', 'tech/385.txt', 'tech/386.txt', 'tech/387.txt', 'tech/388.txt', 'tech/389.txt', 'tech/390.txt', 'tech/391.txt', 'tech/392.txt', 'tech/393.txt', 'tech/394.txt', 'tech/395.txt', 'tech/396.txt', 'tech/397.txt', 'tech/398.txt', 'tech/399.txt', 'tech/400.txt', 'tech/401.txt']\n"
     ]
    }
   ],
   "source": [
    "reader = CategorizedPlaintextCorpusReader(r'/Users/abc/nltk_data/corpora/cookbook/bbc', r'.*\\.txt', cat_pattern=r'(\\w+)/*')\n",
    "print(reader.categories())\n",
    "print(reader.fileids())"
   ]
  },
  {
   "cell_type": "code",
   "execution_count": 10,
   "metadata": {},
   "outputs": [],
   "source": [
    "techFiles = reader.fileids(categories='tech')\n",
    "sportFiles = reader.fileids(categories='sport')\n",
    "businessFiles = reader.fileids(categories='business')\n",
    "entertainmentFiles = reader.fileids(categories='entertainment')\n",
    "politicsFiles = reader.fileids(categories='politics')\n",
    "\n"
   ]
  },
  {
   "cell_type": "code",
   "execution_count": 11,
   "metadata": {},
   "outputs": [
    {
     "name": "stdout",
     "output_type": "stream",
     "text": [
      "tech/122.txt\n",
      "sport/180.txt\n",
      "politics/193.txt\n",
      "entertainment/172.txt\n",
      "business/042.txt\n"
     ]
    }
   ],
   "source": [
    "from random import randint\n",
    "fileT = techFiles[randint(0,len(techFiles)-1)]\n",
    "fileS = sportFiles[randint(0, len(techFiles) - 1)]\n",
    "fileP = politicsFiles[randint(0,len(techFiles)-1)]\n",
    "fileE = entertainmentFiles[randint(0, len(techFiles) - 1)]\n",
    "fileB = businessFiles[randint(0,len(techFiles)-1)]\n",
    "print(fileT)\n",
    "print(fileS)\n",
    "print(fileP)\n",
    "print(fileE)\n",
    "print(fileB)\n"
   ]
  },
  {
   "cell_type": "code",
   "execution_count": 12,
   "metadata": {},
   "outputs": [
    {
     "name": "stdout",
     "output_type": "stream",
     "text": [
      "Concerns over Windows ATMs Cash machine networks could soon be more susceptible to computer viruses , a security firm has warned . \n",
      "The warning is being issued because many banks are starting to use the Windows operating system in machines . \n",
      "Already there have been four incidents in which Windows viruses have disrupted networks of cash machines running the Microsoft operating system . \n",
      "But banking experts say the danger is being overplayed and that the risks of infection and disruption are small . \n",
      "For many years the venerable IBM operating system , known as OS / 2 , has been the staple software used to power many of the 1 . \n",
      "4m cash machines in operation around the world . \n",
      "But IBM will end support for OS / 2 in 2006 which is forcing banks to look for alternatives . \n",
      "There are also other pressures making banks turn to Windows said Dominic Hirsch , managing director of financial analysis firm Retail Banking Research . \n",
      "He said many cash machines will also have to be upgraded to make full use of the new Europay , Mastercard and Visa credit cards that use computer chips instead of magnetic stripes to store data . \n",
      "US laws that demand disabled people get equal access to information will also force banks to make their cash machines more versatile and able to present information in different ways . \n",
      "Todd Thiemann , spokesman for anti - virus firm Trend Micro , said the move to Windows in cash machines was not without risks . \n",
      "Mr Thiemann said research by the TowerGroup showed that 70 % of new cash machines being installed were Windows based . \n",
      "Already , he said , there have been four incidents in which cash machines have been unavailable for hours due to viruses affecting the network of the bank that owns them . \n",
      "In January 2003 the Slammer worm knocked out 13 , 000 cash machines of the Bank of America and many of those operated by the Canadian Imperial Bank of Commerce . \n",
      "In August of the same year , cash machines of two un - named banks were put out of action for hours following an infection by the Welchia worm . \n",
      "Incidents like this happen , said Mr Thiemann , because when banks start using Windows cash machines they also change the networking technology used to link the devices to their back office computers . \n",
      "This often means that all the cash machines and computers in a bank share the same data network . \n",
      "\" This could mean that cash machines get caught up in the viruses that are going around because they have a common transmission system ,\" he said . \n",
      "\" Banks need to consider protection as part of the investment to maintain the security of that network ,\" Mr Thiemann told BBC News Online . \n",
      "But Mr Hirsch from Retail Banking Research said the number of cash machines actually at risk was low because so few were upgraded every year . \n",
      "Currently , he said , a cash machine has a lifetime of up to 10 years which means that only about 10 % of all ATMs get swapped for a newer model every year . \n",
      "\" Windows cash machines have been around for several years ,\" he said . \n",
      "\" Most banks simply upgrade as part of their usual replacement cycle .\" \" In theory there is a bigger threat with Windows than OS / 2 ,\" he said , \" but I do not think that the banks are hugely concerned at the moment .\" \" It ' s pretty unusual to hear about virus problems with ATMs ,\" he said . \n",
      "The many different security systems built - in to cash machines meant there was no chance that a virus could cause them to start spitting out cash spontaneously , he said . \n",
      "Banks were more likely to be worried about internal networks being overwhelmed by worms and viruses and customers not being able to get cash out at all , he added . \n",
      "A spokesman for the Association of Payment and Clearing Services ( Apacs ) which represents the UK ' s payments industry said the risk from viruses was minimal . \n",
      "\" There ' s no concern that there ' s going to be any type of virus hitting the UK networks ,\" he said . \n",
      "Risks of infection were small because the data networks that connect UK cash machines together and the operators of the ATMs themselves were a much smaller and tightly - knit community than in the US where viruses have struck . \n",
      "Brentford v Southampton Griffin Park Tuesday , 1 March 1945 GMT Barry Knight ( Kent ) home to Manchester United in the quarter - finals Midfielder Andrew Frampton and striker Deon Burton are both slight doubts with hamstring injuries , but should be fit Saints are missing their entire first - choice midfield of Jamie Redknapp , Graeme Le Saux , Nigel Quashie and David Prutton . \n",
      "Anders Svensson and Matt Oakley are likely replacements with Kevin Phillips also scheduled to start , with Henri Camara rested . \n",
      "- Brentford boss Martin Allen : \" After conceding eight goals in our last three matches , I have to admit I ' m not very confident . \n",
      "\" There ' s no doubt we ' re the underdogs and after defending so poorly recently it ' s not looking good . \n",
      "\" Southampton have just drawn with the Premiership champions and that makes our task harder than it was already .\" - Southampton boss Harry Redknapp : \" We know they can give us problems . \n",
      "\" Brentford have done well but we are the Premiership side and should have the better players . \n",
      "\" Staying in the Premiership is our priority . \n",
      "We want to win , of course we do . \n",
      "We ' ll battle but if it comes to a football match I think we ' ll win .\" KEY MATCH STATS - BRENTFORD are the lowest ranked club left in the FA Cup . \n",
      "They ' re on their best run in the competition since reaching the quarter - finals for the fourth time in their history 16 years ago . \n",
      "Now they have the carrot of the plum draw in the last eight dangling before them . \n",
      "Victory over Premiership strugglers Southampton , would bring the mighty Manchester United to Griffin Park and a gigantic pay day for the sole League One survivors . \n",
      "- Martin Allen ' s brave side came back from two goals down at St Mary ' s to earn a deserved replay . \n",
      "Southampton striker Henri Camara scored twice from close range to put the Saints in command , but Isaiah Rankin hit back just before half time , and Sam Sodje headed past a creaky defence on 58 minutes . \n",
      "- The Londoners have conceded six goals in their two subsequent League outings - three each in losing away to Hartlepool and drawing at home to Sheffield Wednesday . \n",
      "But they haven ' t lost in six League and Cup games on home turf - winning three and drawing three since the reverse to Torquay on Boxing Day . \n",
      "- SOUTHAMPTON go into this tie on the back of an eventful Premiership match with Arsenal on Saturday . \n",
      "An angry David Prutton pushed referee Alan Wiley after being shown the red card , but his side still came back to draw 1 - 1 . \n",
      "It was Saints ' fourth stalemate in succession in all competitions , but didn ' t lift them out of the relegation zone . \n",
      "The retention of their ever present Premier League status must be the number one priority , irrespective of the rewards that success against Brentford would bring . \n",
      "- Victory here would set up a repeat of the 1976 final , when Saints astounded the football world by defeating Tommy Docherty ' s Manchester United courtesy of Bobby Stokes ' famous winner . \n",
      "They also knocked out the Red Devils in 1991 on penalties in the fourth round . \n",
      "But to write another chapter in their FA Cup history , the Solent side must avoid succumbing to lower division opposition for the first time since Rotherham , from the second level , beat them 2 - 1 in a third round tie at Millmoor on 16 January 2002 . \n",
      "Southampton were last humbled by a club from the third tier six years ago . \n",
      "Fulham were then in the Second Division , when they won a third round replay at Craven Cottage 1 - 0 on 13 January 1999 . \n",
      "- To get to within two matches of a second visit to the Millennium Stadium in three years for the final , Harry Redknapp must guide his side past a club 36 places inferior on the League ladder , and a manager 19 years his junior , who played under him at West Ham . \n",
      "HEAD TO HEAD 10th League One QUARTER - FINALS ( four times ) 18th PREM WINNERS ( once ) Tories attack EU asylum moves David Blunkett has been accused of using the \" politics of confusion \" to disguise new EU immigration measures . \n",
      "Tory spokesman David Davis told MPs the UK was losing its power of veto over who was allowed to come to Britain . \n",
      "The EU has opted to adopt qualified majority voting in this area - previously measures needed unanimous agreement from all member states . \n",
      "Mr Blunkett told MPs the UK would still be able to reject proposals on immigration it did not agree with . \n",
      "He argued closer co - operation with Europe over asylum and immigration was crucial to controlling the flow of people into the UK . \n",
      "\" If we don ' t like what other EU countries do on immigration and nationality we have the right to opt - in or out to suit the British people ,\" he said . \n",
      "The home secretary was responding to an emergency question from his Tory opposite number Mr Davis . \n",
      "\" The government is employing the politics of confusion - I think , deliberately ,\" argued Mr Davis . \n",
      "\" By confusing the country it hopes no one will notice the disappearance of the asylum and immigration veto .\" On Monday Tony Blair insisted closer co - operation did not mean losing control of British borders . \n",
      "He said an enlarged 25 - member EU needs a streamlined decision making process . \n",
      "Mr Davis said once Britain had opted into policies then it could not opt out - leaving the UK open to unfavourable interpretations of what those policies actually meant . \n",
      "He accused the government of being \" pathetic \" when it came to its efforts over immigration and asylum and of \" surrendering \" on the issue . \n",
      "And he asked why the government was agreeing to the measure on asylum and immigration now when the whole issue was part of the EU constitution , which voters in the UK had been promised a referendum over . \n",
      "Mr Blair told his monthly news conference Britain had the \" best of both worlds \" and would keep the veto . \n",
      "\" There is no question of Britain giving up our veto on our border controls ,\" he said . \n",
      "\" With the Treaty of Amsterdam seven years ago , we secured the absolute right to opt in to any of the asylum and immigration provisions that we wanted to in Europe .\" Mr Blunkett met his EU counterparts in Luxembourg on Monday to consider proposals aimed at streamlining decision making on the issue . \n",
      "The 25 member - states are expected to scrap the requirement for unanimous agreement on immigration policy , in favour of the qualified majority voting ( QMV ) system . \n",
      "Under this scheme larger states such as Britain are expected to have more power than the smaller EU states . \n",
      "Britain is expected to retain an \" opt - in \" right which will allow it to ignore any measures it disagrees with . \n",
      "Liberal Democrat spokesman Mark Oaten called the change pragmatic and argued it gave a better chance of producing a European asylum solution . \n",
      "\" If we don ' t work together it means some countries can ignore their responsibilities at the expense of their neighbours ,\" said Mr Oaten . \n",
      "\" The Liberal Democrats have long argued that Britain should be a safe haven for asylum seekers but it ' s right that we don ' t do this in isolation .\" Eurovision ' greats ' to do battle Stars of the Eurovision Song Contest from the show ' s 50 - year history are to compete against each other to celebrate the contest ' s anniversary . \n",
      "Viewers will choose 14 past songs to be performed by the original artists or others in the spirit of the originals . \n",
      "Past Eurovision performers include Abba , Celine Dion , Bucks Fizz , Nana Mouskouri , Lulu and Julio Iglesias . \n",
      "Fans will then vote as usual to pick the all - time best Eurovision song during the show in Denmark in October . \n",
      "The first contest was organised by the European Broadcasting Union , or EBU , in 1956 , and has become an annual event pitting pop giants against musical minnows - with often surprising results . \n",
      "While some regard it as an essential celebration of continental talent , others see it as an equally unmissable parade of the reasons some countries do not normally produce international stars . \n",
      "The 50th annual contest will be held in Kiev , Ukraine , in May , after Ukrainian singer Ruslana won last year . \n",
      "The 50th anniversary special will be held in Denmark later this year because the Danish Broadcasting Corporation came up with the idea for the all - time contest . \n",
      "A plan to hold it in London was scrapped because of problems finding a suitable venue . \n"
     ]
    },
    {
     "name": "stdout",
     "output_type": "stream",
     "text": [
      "Ireland has been the most successful country in the show ' s history with seven victories , followed by the UK , France and Luxembourg with five each . \n",
      "UK Coal plunges into deeper loss Shares in UK Coal have fallen after the mining group reported losses had deepened to £ 51 . \n",
      "6m in 2004 from £ 1 . \n",
      "2m . \n",
      "The UK ' s biggest coal producer blamed geological problems , industrial action and \" operating flaws \" at its deep mines for its worsening fortunes . \n",
      "The South Yorkshire company , led by new chief executive Gerry Spindler , said it hoped to return to profit in 2006 . \n",
      "In early trade on Thursday , its shares were down 10 % at 119 pence . \n",
      "UK Coal said it was making \" significant progress \" in shaking up the business . \n",
      "It had introduced new wage structures , a new daily maintenance regime for machinery at its mines and methods to continue mining in adverse conditions . \n",
      "The company said these actions should \" significantly uplift earnings \". It expected 2005 to be a \" transitional year \" and to return to profitability in 2006 . \n",
      "The recent rise in coal prices has failed to benefit the company as most of its output had already been sold , it said . \n",
      "Total production costs were £ 1 . \n",
      "30 per gigajoule , UK Coal said , but the average selling price was just £ 1 . \n",
      "18 per gigajoule . \n",
      "\" We have a long journey ahead to fix these issues . \n",
      "We continue to make progress and great strides have already been made ,\" said Mr Spindler . \n",
      "UK Coal operates 15 deep and surface mines across Nottinghamshire , Derbyshire , Leicestershire , Yorkshire , the West Midlands , Northumberland and Durham . \n"
     ]
    }
   ],
   "source": [
    "for w in reader.words(fileT):\n",
    "  print(w + ' ', end='')\n",
    "  if (w is '.'):\n",
    "    print()\n",
    "for w in reader.words(fileS):\n",
    "  print(w + ' ', end='')\n",
    "  if (w is '.'):\n",
    "    print()\n",
    "for w in reader.words(fileP):\n",
    "  print(w + ' ', end='')\n",
    "  if (w is '.'):\n",
    "    print()\n",
    "for w in reader.words(fileE):\n",
    "  print(w + ' ', end='')\n",
    "  if (w is '.'):\n",
    "    print()\n",
    "for w in reader.words(fileB):\n",
    "  print(w + ' ', end='')\n",
    "  if (w is '.'):\n",
    "    print()"
   ]
  },
  {
   "cell_type": "code",
   "execution_count": 13,
   "metadata": {},
   "outputs": [
    {
     "name": "stdout",
     "output_type": "stream",
     "text": [
      "[nltk_data] Downloading package punkt to C:\\Users\\abc/nltk_data...\n",
      "[nltk_data]   Unzipping tokenizers\\punkt.zip.\n"
     ]
    },
    {
     "data": {
      "text/plain": [
       "True"
      ]
     },
     "execution_count": 13,
     "metadata": {},
     "output_type": "execute_result"
    }
   ],
   "source": [
    "nltk.download('punkt')"
   ]
  },
  {
   "cell_type": "code",
   "execution_count": 14,
   "metadata": {},
   "outputs": [],
   "source": [
    "from nltk.tokenize import word_tokenize\n",
    "from nltk.tag import pos_tag"
   ]
  },
  {
   "cell_type": "code",
   "execution_count": 15,
   "metadata": {},
   "outputs": [],
   "source": [
    "tokens1=word_tokenize(fileT)\n",
    "tokens2=word_tokenize(fileS)\n",
    "tokens3=word_tokenize(fileP)\n",
    "tokens4=word_tokenize(fileE)\n",
    "tokens5=word_tokenize(fileB)"
   ]
  },
  {
   "cell_type": "code",
   "execution_count": 16,
   "metadata": {},
   "outputs": [
    {
     "name": "stdout",
     "output_type": "stream",
     "text": [
      "[nltk_data] Downloading package wordnet to C:\\Users\\abc/nltk_data...\n",
      "[nltk_data]   Unzipping corpora\\wordnet.zip.\n",
      "[nltk_data] Downloading package averaged_perceptron_tagger to\n",
      "[nltk_data]     C:\\Users\\abc/nltk_data...\n",
      "[nltk_data]   Unzipping taggers\\averaged_perceptron_tagger.zip.\n"
     ]
    },
    {
     "data": {
      "text/plain": [
       "True"
      ]
     },
     "execution_count": 16,
     "metadata": {},
     "output_type": "execute_result"
    }
   ],
   "source": [
    "nltk.download('wordnet')\n",
    "nltk.download('averaged_perceptron_tagger')"
   ]
  },
  {
   "cell_type": "code",
   "execution_count": 17,
   "metadata": {},
   "outputs": [
    {
     "name": "stdout",
     "output_type": "stream",
     "text": [
      "[('t', 'NN'), ('e', 'NN'), ('c', 'NN'), ('h', 'NN'), ('/', 'VBD'), ('1', 'CD'), ('2', 'CD'), ('2', 'CD'), ('.', '.'), ('t', 'NN'), ('x', 'NN'), ('t', 'NN')]\n"
     ]
    }
   ],
   "source": [
    "from nltk.tag import pos_tag\n",
    "\n",
    "news_tokens = word_tokenize(fileT)\n",
    "print(pos_tag(news_tokens[0]))"
   ]
  },
  {
   "cell_type": "code",
   "execution_count": 19,
   "metadata": {},
   "outputs": [
    {
     "data": {
      "text/plain": [
       "[('And', 'CC'),\n",
       " ('now', 'RB'),\n",
       " ('for', 'IN'),\n",
       " ('something', 'NN'),\n",
       " ('completely', 'RB'),\n",
       " ('different', 'JJ')]"
      ]
     },
     "execution_count": 19,
     "metadata": {},
     "output_type": "execute_result"
    }
   ],
   "source": [
    "text = word_tokenize(\"And now for something completely different\")\n",
    "nltk.pos_tag(text)"
   ]
  },
  {
   "cell_type": "code",
   "execution_count": null,
   "metadata": {},
   "outputs": [],
   "source": []
  }
 ],
 "metadata": {
  "kernelspec": {
   "display_name": "Python 3",
   "language": "python",
   "name": "python3"
  },
  "language_info": {
   "codemirror_mode": {
    "name": "ipython",
    "version": 3
   },
   "file_extension": ".py",
   "mimetype": "text/x-python",
   "name": "python",
   "nbconvert_exporter": "python",
   "pygments_lexer": "ipython3",
   "version": "3.7.0"
  }
 },
 "nbformat": 4,
 "nbformat_minor": 2
}
